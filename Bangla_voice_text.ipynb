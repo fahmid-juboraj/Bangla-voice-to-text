{
  "nbformat": 4,
  "nbformat_minor": 0,
  "metadata": {
    "colab": {
      "provenance": [],
      "mount_file_id": "1YEwN8VyDW4yxVkbznH3NeYtdldKjsymU",
      "authorship_tag": "ABX9TyO563zeJpGLJdFUios9G4+v"
    },
    "kernelspec": {
      "name": "python3",
      "display_name": "Python 3"
    },
    "language_info": {
      "name": "python"
    },
    "widgets": {
      "application/vnd.jupyter.widget-state+json": {
        "7ad738de187c4d1a91654b689272d16d": {
          "model_module": "@jupyter-widgets/controls",
          "model_name": "HBoxModel",
          "model_module_version": "1.5.0",
          "state": {
            "_dom_classes": [],
            "_model_module": "@jupyter-widgets/controls",
            "_model_module_version": "1.5.0",
            "_model_name": "HBoxModel",
            "_view_count": null,
            "_view_module": "@jupyter-widgets/controls",
            "_view_module_version": "1.5.0",
            "_view_name": "HBoxView",
            "box_style": "",
            "children": [
              "IPY_MODEL_d79a7d0e852f449b8ad5fc6279a1388b",
              "IPY_MODEL_8fab617e170e4e7c96a5345cda64101b",
              "IPY_MODEL_7fa1e1932408415c9d00ebcd4118311f"
            ],
            "layout": "IPY_MODEL_ff8f3a6305e2432ba2a71a0a625d051e"
          }
        },
        "d79a7d0e852f449b8ad5fc6279a1388b": {
          "model_module": "@jupyter-widgets/controls",
          "model_name": "HTMLModel",
          "model_module_version": "1.5.0",
          "state": {
            "_dom_classes": [],
            "_model_module": "@jupyter-widgets/controls",
            "_model_module_version": "1.5.0",
            "_model_name": "HTMLModel",
            "_view_count": null,
            "_view_module": "@jupyter-widgets/controls",
            "_view_module_version": "1.5.0",
            "_view_name": "HTMLView",
            "description": "",
            "description_tooltip": null,
            "layout": "IPY_MODEL_e2165ab75eb54032b6961a0b8fe1836c",
            "placeholder": "​",
            "style": "IPY_MODEL_95a60fac6a434469ac8ef48ba06f5726",
            "value": "Map:   0%"
          }
        },
        "8fab617e170e4e7c96a5345cda64101b": {
          "model_module": "@jupyter-widgets/controls",
          "model_name": "FloatProgressModel",
          "model_module_version": "1.5.0",
          "state": {
            "_dom_classes": [],
            "_model_module": "@jupyter-widgets/controls",
            "_model_module_version": "1.5.0",
            "_model_name": "FloatProgressModel",
            "_view_count": null,
            "_view_module": "@jupyter-widgets/controls",
            "_view_module_version": "1.5.0",
            "_view_name": "ProgressView",
            "bar_style": "",
            "description": "",
            "description_tooltip": null,
            "layout": "IPY_MODEL_34d3def6db0644bf858f4339fe53ff99",
            "max": 12071,
            "min": 0,
            "orientation": "horizontal",
            "style": "IPY_MODEL_da32ad37622e4bce90ee89ef7d74648a",
            "value": 12071
          }
        },
        "7fa1e1932408415c9d00ebcd4118311f": {
          "model_module": "@jupyter-widgets/controls",
          "model_name": "HTMLModel",
          "model_module_version": "1.5.0",
          "state": {
            "_dom_classes": [],
            "_model_module": "@jupyter-widgets/controls",
            "_model_module_version": "1.5.0",
            "_model_name": "HTMLModel",
            "_view_count": null,
            "_view_module": "@jupyter-widgets/controls",
            "_view_module_version": "1.5.0",
            "_view_name": "HTMLView",
            "description": "",
            "description_tooltip": null,
            "layout": "IPY_MODEL_a129e447a1ca4b9ca536442e63841cb5",
            "placeholder": "​",
            "style": "IPY_MODEL_7724840232dc4bca8a1d979c37b4d98a",
            "value": " 0/12071 [00:00&lt;?, ? examples/s]"
          }
        },
        "ff8f3a6305e2432ba2a71a0a625d051e": {
          "model_module": "@jupyter-widgets/base",
          "model_name": "LayoutModel",
          "model_module_version": "1.2.0",
          "state": {
            "_model_module": "@jupyter-widgets/base",
            "_model_module_version": "1.2.0",
            "_model_name": "LayoutModel",
            "_view_count": null,
            "_view_module": "@jupyter-widgets/base",
            "_view_module_version": "1.2.0",
            "_view_name": "LayoutView",
            "align_content": null,
            "align_items": null,
            "align_self": null,
            "border": null,
            "bottom": null,
            "display": null,
            "flex": null,
            "flex_flow": null,
            "grid_area": null,
            "grid_auto_columns": null,
            "grid_auto_flow": null,
            "grid_auto_rows": null,
            "grid_column": null,
            "grid_gap": null,
            "grid_row": null,
            "grid_template_areas": null,
            "grid_template_columns": null,
            "grid_template_rows": null,
            "height": null,
            "justify_content": null,
            "justify_items": null,
            "left": null,
            "margin": null,
            "max_height": null,
            "max_width": null,
            "min_height": null,
            "min_width": null,
            "object_fit": null,
            "object_position": null,
            "order": null,
            "overflow": null,
            "overflow_x": null,
            "overflow_y": null,
            "padding": null,
            "right": null,
            "top": null,
            "visibility": "hidden",
            "width": null
          }
        },
        "e2165ab75eb54032b6961a0b8fe1836c": {
          "model_module": "@jupyter-widgets/base",
          "model_name": "LayoutModel",
          "model_module_version": "1.2.0",
          "state": {
            "_model_module": "@jupyter-widgets/base",
            "_model_module_version": "1.2.0",
            "_model_name": "LayoutModel",
            "_view_count": null,
            "_view_module": "@jupyter-widgets/base",
            "_view_module_version": "1.2.0",
            "_view_name": "LayoutView",
            "align_content": null,
            "align_items": null,
            "align_self": null,
            "border": null,
            "bottom": null,
            "display": null,
            "flex": null,
            "flex_flow": null,
            "grid_area": null,
            "grid_auto_columns": null,
            "grid_auto_flow": null,
            "grid_auto_rows": null,
            "grid_column": null,
            "grid_gap": null,
            "grid_row": null,
            "grid_template_areas": null,
            "grid_template_columns": null,
            "grid_template_rows": null,
            "height": null,
            "justify_content": null,
            "justify_items": null,
            "left": null,
            "margin": null,
            "max_height": null,
            "max_width": null,
            "min_height": null,
            "min_width": null,
            "object_fit": null,
            "object_position": null,
            "order": null,
            "overflow": null,
            "overflow_x": null,
            "overflow_y": null,
            "padding": null,
            "right": null,
            "top": null,
            "visibility": null,
            "width": null
          }
        },
        "95a60fac6a434469ac8ef48ba06f5726": {
          "model_module": "@jupyter-widgets/controls",
          "model_name": "DescriptionStyleModel",
          "model_module_version": "1.5.0",
          "state": {
            "_model_module": "@jupyter-widgets/controls",
            "_model_module_version": "1.5.0",
            "_model_name": "DescriptionStyleModel",
            "_view_count": null,
            "_view_module": "@jupyter-widgets/base",
            "_view_module_version": "1.2.0",
            "_view_name": "StyleView",
            "description_width": ""
          }
        },
        "34d3def6db0644bf858f4339fe53ff99": {
          "model_module": "@jupyter-widgets/base",
          "model_name": "LayoutModel",
          "model_module_version": "1.2.0",
          "state": {
            "_model_module": "@jupyter-widgets/base",
            "_model_module_version": "1.2.0",
            "_model_name": "LayoutModel",
            "_view_count": null,
            "_view_module": "@jupyter-widgets/base",
            "_view_module_version": "1.2.0",
            "_view_name": "LayoutView",
            "align_content": null,
            "align_items": null,
            "align_self": null,
            "border": null,
            "bottom": null,
            "display": null,
            "flex": null,
            "flex_flow": null,
            "grid_area": null,
            "grid_auto_columns": null,
            "grid_auto_flow": null,
            "grid_auto_rows": null,
            "grid_column": null,
            "grid_gap": null,
            "grid_row": null,
            "grid_template_areas": null,
            "grid_template_columns": null,
            "grid_template_rows": null,
            "height": null,
            "justify_content": null,
            "justify_items": null,
            "left": null,
            "margin": null,
            "max_height": null,
            "max_width": null,
            "min_height": null,
            "min_width": null,
            "object_fit": null,
            "object_position": null,
            "order": null,
            "overflow": null,
            "overflow_x": null,
            "overflow_y": null,
            "padding": null,
            "right": null,
            "top": null,
            "visibility": null,
            "width": null
          }
        },
        "da32ad37622e4bce90ee89ef7d74648a": {
          "model_module": "@jupyter-widgets/controls",
          "model_name": "ProgressStyleModel",
          "model_module_version": "1.5.0",
          "state": {
            "_model_module": "@jupyter-widgets/controls",
            "_model_module_version": "1.5.0",
            "_model_name": "ProgressStyleModel",
            "_view_count": null,
            "_view_module": "@jupyter-widgets/base",
            "_view_module_version": "1.2.0",
            "_view_name": "StyleView",
            "bar_color": null,
            "description_width": ""
          }
        },
        "a129e447a1ca4b9ca536442e63841cb5": {
          "model_module": "@jupyter-widgets/base",
          "model_name": "LayoutModel",
          "model_module_version": "1.2.0",
          "state": {
            "_model_module": "@jupyter-widgets/base",
            "_model_module_version": "1.2.0",
            "_model_name": "LayoutModel",
            "_view_count": null,
            "_view_module": "@jupyter-widgets/base",
            "_view_module_version": "1.2.0",
            "_view_name": "LayoutView",
            "align_content": null,
            "align_items": null,
            "align_self": null,
            "border": null,
            "bottom": null,
            "display": null,
            "flex": null,
            "flex_flow": null,
            "grid_area": null,
            "grid_auto_columns": null,
            "grid_auto_flow": null,
            "grid_auto_rows": null,
            "grid_column": null,
            "grid_gap": null,
            "grid_row": null,
            "grid_template_areas": null,
            "grid_template_columns": null,
            "grid_template_rows": null,
            "height": null,
            "justify_content": null,
            "justify_items": null,
            "left": null,
            "margin": null,
            "max_height": null,
            "max_width": null,
            "min_height": null,
            "min_width": null,
            "object_fit": null,
            "object_position": null,
            "order": null,
            "overflow": null,
            "overflow_x": null,
            "overflow_y": null,
            "padding": null,
            "right": null,
            "top": null,
            "visibility": null,
            "width": null
          }
        },
        "7724840232dc4bca8a1d979c37b4d98a": {
          "model_module": "@jupyter-widgets/controls",
          "model_name": "DescriptionStyleModel",
          "model_module_version": "1.5.0",
          "state": {
            "_model_module": "@jupyter-widgets/controls",
            "_model_module_version": "1.5.0",
            "_model_name": "DescriptionStyleModel",
            "_view_count": null,
            "_view_module": "@jupyter-widgets/base",
            "_view_module_version": "1.2.0",
            "_view_name": "StyleView",
            "description_width": ""
          }
        },
        "6d89d36ed937402294f15e00d3499e6d": {
          "model_module": "@jupyter-widgets/controls",
          "model_name": "HBoxModel",
          "model_module_version": "1.5.0",
          "state": {
            "_dom_classes": [],
            "_model_module": "@jupyter-widgets/controls",
            "_model_module_version": "1.5.0",
            "_model_name": "HBoxModel",
            "_view_count": null,
            "_view_module": "@jupyter-widgets/controls",
            "_view_module_version": "1.5.0",
            "_view_name": "HBoxView",
            "box_style": "",
            "children": [
              "IPY_MODEL_f9d1efaa95994fe6b4fca286b4f049a3",
              "IPY_MODEL_29cc3f334b244be3bd0f9e6ad664cd85",
              "IPY_MODEL_98c12967aa01410085b8f9fbf2c1356e"
            ],
            "layout": "IPY_MODEL_775245db0ceb45f28f1b3d4d5f2a1fca"
          }
        },
        "f9d1efaa95994fe6b4fca286b4f049a3": {
          "model_module": "@jupyter-widgets/controls",
          "model_name": "HTMLModel",
          "model_module_version": "1.5.0",
          "state": {
            "_dom_classes": [],
            "_model_module": "@jupyter-widgets/controls",
            "_model_module_version": "1.5.0",
            "_model_name": "HTMLModel",
            "_view_count": null,
            "_view_module": "@jupyter-widgets/controls",
            "_view_module_version": "1.5.0",
            "_view_name": "HTMLView",
            "description": "",
            "description_tooltip": null,
            "layout": "IPY_MODEL_9944e89c159e4c03bb7780134d6aa3c1",
            "placeholder": "​",
            "style": "IPY_MODEL_ca27155aa121442aa1ad7bc51e92546f",
            "value": "Map:   0%"
          }
        },
        "29cc3f334b244be3bd0f9e6ad664cd85": {
          "model_module": "@jupyter-widgets/controls",
          "model_name": "FloatProgressModel",
          "model_module_version": "1.5.0",
          "state": {
            "_dom_classes": [],
            "_model_module": "@jupyter-widgets/controls",
            "_model_module_version": "1.5.0",
            "_model_name": "FloatProgressModel",
            "_view_count": null,
            "_view_module": "@jupyter-widgets/controls",
            "_view_module_version": "1.5.0",
            "_view_name": "ProgressView",
            "bar_style": "",
            "description": "",
            "description_tooltip": null,
            "layout": "IPY_MODEL_541db88bbd3f493d98c73546b59d5d61",
            "max": 2501,
            "min": 0,
            "orientation": "horizontal",
            "style": "IPY_MODEL_8a8274d224ac481686b0a5177a05ba3e",
            "value": 2501
          }
        },
        "98c12967aa01410085b8f9fbf2c1356e": {
          "model_module": "@jupyter-widgets/controls",
          "model_name": "HTMLModel",
          "model_module_version": "1.5.0",
          "state": {
            "_dom_classes": [],
            "_model_module": "@jupyter-widgets/controls",
            "_model_module_version": "1.5.0",
            "_model_name": "HTMLModel",
            "_view_count": null,
            "_view_module": "@jupyter-widgets/controls",
            "_view_module_version": "1.5.0",
            "_view_name": "HTMLView",
            "description": "",
            "description_tooltip": null,
            "layout": "IPY_MODEL_d261fdce6c2f486c92df29b67d9a9c66",
            "placeholder": "​",
            "style": "IPY_MODEL_f0e725a7a6fe42efa6a5bca0adeaace9",
            "value": " 0/2501 [00:00&lt;?, ? examples/s]"
          }
        },
        "775245db0ceb45f28f1b3d4d5f2a1fca": {
          "model_module": "@jupyter-widgets/base",
          "model_name": "LayoutModel",
          "model_module_version": "1.2.0",
          "state": {
            "_model_module": "@jupyter-widgets/base",
            "_model_module_version": "1.2.0",
            "_model_name": "LayoutModel",
            "_view_count": null,
            "_view_module": "@jupyter-widgets/base",
            "_view_module_version": "1.2.0",
            "_view_name": "LayoutView",
            "align_content": null,
            "align_items": null,
            "align_self": null,
            "border": null,
            "bottom": null,
            "display": null,
            "flex": null,
            "flex_flow": null,
            "grid_area": null,
            "grid_auto_columns": null,
            "grid_auto_flow": null,
            "grid_auto_rows": null,
            "grid_column": null,
            "grid_gap": null,
            "grid_row": null,
            "grid_template_areas": null,
            "grid_template_columns": null,
            "grid_template_rows": null,
            "height": null,
            "justify_content": null,
            "justify_items": null,
            "left": null,
            "margin": null,
            "max_height": null,
            "max_width": null,
            "min_height": null,
            "min_width": null,
            "object_fit": null,
            "object_position": null,
            "order": null,
            "overflow": null,
            "overflow_x": null,
            "overflow_y": null,
            "padding": null,
            "right": null,
            "top": null,
            "visibility": "hidden",
            "width": null
          }
        },
        "9944e89c159e4c03bb7780134d6aa3c1": {
          "model_module": "@jupyter-widgets/base",
          "model_name": "LayoutModel",
          "model_module_version": "1.2.0",
          "state": {
            "_model_module": "@jupyter-widgets/base",
            "_model_module_version": "1.2.0",
            "_model_name": "LayoutModel",
            "_view_count": null,
            "_view_module": "@jupyter-widgets/base",
            "_view_module_version": "1.2.0",
            "_view_name": "LayoutView",
            "align_content": null,
            "align_items": null,
            "align_self": null,
            "border": null,
            "bottom": null,
            "display": null,
            "flex": null,
            "flex_flow": null,
            "grid_area": null,
            "grid_auto_columns": null,
            "grid_auto_flow": null,
            "grid_auto_rows": null,
            "grid_column": null,
            "grid_gap": null,
            "grid_row": null,
            "grid_template_areas": null,
            "grid_template_columns": null,
            "grid_template_rows": null,
            "height": null,
            "justify_content": null,
            "justify_items": null,
            "left": null,
            "margin": null,
            "max_height": null,
            "max_width": null,
            "min_height": null,
            "min_width": null,
            "object_fit": null,
            "object_position": null,
            "order": null,
            "overflow": null,
            "overflow_x": null,
            "overflow_y": null,
            "padding": null,
            "right": null,
            "top": null,
            "visibility": null,
            "width": null
          }
        },
        "ca27155aa121442aa1ad7bc51e92546f": {
          "model_module": "@jupyter-widgets/controls",
          "model_name": "DescriptionStyleModel",
          "model_module_version": "1.5.0",
          "state": {
            "_model_module": "@jupyter-widgets/controls",
            "_model_module_version": "1.5.0",
            "_model_name": "DescriptionStyleModel",
            "_view_count": null,
            "_view_module": "@jupyter-widgets/base",
            "_view_module_version": "1.2.0",
            "_view_name": "StyleView",
            "description_width": ""
          }
        },
        "541db88bbd3f493d98c73546b59d5d61": {
          "model_module": "@jupyter-widgets/base",
          "model_name": "LayoutModel",
          "model_module_version": "1.2.0",
          "state": {
            "_model_module": "@jupyter-widgets/base",
            "_model_module_version": "1.2.0",
            "_model_name": "LayoutModel",
            "_view_count": null,
            "_view_module": "@jupyter-widgets/base",
            "_view_module_version": "1.2.0",
            "_view_name": "LayoutView",
            "align_content": null,
            "align_items": null,
            "align_self": null,
            "border": null,
            "bottom": null,
            "display": null,
            "flex": null,
            "flex_flow": null,
            "grid_area": null,
            "grid_auto_columns": null,
            "grid_auto_flow": null,
            "grid_auto_rows": null,
            "grid_column": null,
            "grid_gap": null,
            "grid_row": null,
            "grid_template_areas": null,
            "grid_template_columns": null,
            "grid_template_rows": null,
            "height": null,
            "justify_content": null,
            "justify_items": null,
            "left": null,
            "margin": null,
            "max_height": null,
            "max_width": null,
            "min_height": null,
            "min_width": null,
            "object_fit": null,
            "object_position": null,
            "order": null,
            "overflow": null,
            "overflow_x": null,
            "overflow_y": null,
            "padding": null,
            "right": null,
            "top": null,
            "visibility": null,
            "width": null
          }
        },
        "8a8274d224ac481686b0a5177a05ba3e": {
          "model_module": "@jupyter-widgets/controls",
          "model_name": "ProgressStyleModel",
          "model_module_version": "1.5.0",
          "state": {
            "_model_module": "@jupyter-widgets/controls",
            "_model_module_version": "1.5.0",
            "_model_name": "ProgressStyleModel",
            "_view_count": null,
            "_view_module": "@jupyter-widgets/base",
            "_view_module_version": "1.2.0",
            "_view_name": "StyleView",
            "bar_color": null,
            "description_width": ""
          }
        },
        "d261fdce6c2f486c92df29b67d9a9c66": {
          "model_module": "@jupyter-widgets/base",
          "model_name": "LayoutModel",
          "model_module_version": "1.2.0",
          "state": {
            "_model_module": "@jupyter-widgets/base",
            "_model_module_version": "1.2.0",
            "_model_name": "LayoutModel",
            "_view_count": null,
            "_view_module": "@jupyter-widgets/base",
            "_view_module_version": "1.2.0",
            "_view_name": "LayoutView",
            "align_content": null,
            "align_items": null,
            "align_self": null,
            "border": null,
            "bottom": null,
            "display": null,
            "flex": null,
            "flex_flow": null,
            "grid_area": null,
            "grid_auto_columns": null,
            "grid_auto_flow": null,
            "grid_auto_rows": null,
            "grid_column": null,
            "grid_gap": null,
            "grid_row": null,
            "grid_template_areas": null,
            "grid_template_columns": null,
            "grid_template_rows": null,
            "height": null,
            "justify_content": null,
            "justify_items": null,
            "left": null,
            "margin": null,
            "max_height": null,
            "max_width": null,
            "min_height": null,
            "min_width": null,
            "object_fit": null,
            "object_position": null,
            "order": null,
            "overflow": null,
            "overflow_x": null,
            "overflow_y": null,
            "padding": null,
            "right": null,
            "top": null,
            "visibility": null,
            "width": null
          }
        },
        "f0e725a7a6fe42efa6a5bca0adeaace9": {
          "model_module": "@jupyter-widgets/controls",
          "model_name": "DescriptionStyleModel",
          "model_module_version": "1.5.0",
          "state": {
            "_model_module": "@jupyter-widgets/controls",
            "_model_module_version": "1.5.0",
            "_model_name": "DescriptionStyleModel",
            "_view_count": null,
            "_view_module": "@jupyter-widgets/base",
            "_view_module_version": "1.2.0",
            "_view_name": "StyleView",
            "description_width": ""
          }
        },
        "f8d466d0167045649c9837148be57920": {
          "model_module": "@jupyter-widgets/controls",
          "model_name": "HBoxModel",
          "model_module_version": "1.5.0",
          "state": {
            "_dom_classes": [],
            "_model_module": "@jupyter-widgets/controls",
            "_model_module_version": "1.5.0",
            "_model_name": "HBoxModel",
            "_view_count": null,
            "_view_module": "@jupyter-widgets/controls",
            "_view_module_version": "1.5.0",
            "_view_name": "HBoxView",
            "box_style": "",
            "children": [
              "IPY_MODEL_b948848dd91a4046aca0c5ff9a8656bb",
              "IPY_MODEL_fa936c469ede46c0ab06e5526dfb3330",
              "IPY_MODEL_4b9b2cef7b414f6ab68a47600b0e680b"
            ],
            "layout": "IPY_MODEL_f141fb9c12134f93b21d0f8979062a07"
          }
        },
        "b948848dd91a4046aca0c5ff9a8656bb": {
          "model_module": "@jupyter-widgets/controls",
          "model_name": "HTMLModel",
          "model_module_version": "1.5.0",
          "state": {
            "_dom_classes": [],
            "_model_module": "@jupyter-widgets/controls",
            "_model_module_version": "1.5.0",
            "_model_name": "HTMLModel",
            "_view_count": null,
            "_view_module": "@jupyter-widgets/controls",
            "_view_module_version": "1.5.0",
            "_view_name": "HTMLView",
            "description": "",
            "description_tooltip": null,
            "layout": "IPY_MODEL_658e073d8312492f8701bcf6c41614c5",
            "placeholder": "​",
            "style": "IPY_MODEL_e6e87d2379d3415aaf3715c762ce3de7",
            "value": "Downloading pytorch_model.bin: 100%"
          }
        },
        "fa936c469ede46c0ab06e5526dfb3330": {
          "model_module": "@jupyter-widgets/controls",
          "model_name": "FloatProgressModel",
          "model_module_version": "1.5.0",
          "state": {
            "_dom_classes": [],
            "_model_module": "@jupyter-widgets/controls",
            "_model_module_version": "1.5.0",
            "_model_name": "FloatProgressModel",
            "_view_count": null,
            "_view_module": "@jupyter-widgets/controls",
            "_view_module_version": "1.5.0",
            "_view_name": "ProgressView",
            "bar_style": "success",
            "description": "",
            "description_tooltip": null,
            "layout": "IPY_MODEL_9bb1280a3b644a9288f28eec53a137f4",
            "max": 1269737156,
            "min": 0,
            "orientation": "horizontal",
            "style": "IPY_MODEL_8ea498d255684f82ad1c2a8835147a51",
            "value": 1269737156
          }
        },
        "4b9b2cef7b414f6ab68a47600b0e680b": {
          "model_module": "@jupyter-widgets/controls",
          "model_name": "HTMLModel",
          "model_module_version": "1.5.0",
          "state": {
            "_dom_classes": [],
            "_model_module": "@jupyter-widgets/controls",
            "_model_module_version": "1.5.0",
            "_model_name": "HTMLModel",
            "_view_count": null,
            "_view_module": "@jupyter-widgets/controls",
            "_view_module_version": "1.5.0",
            "_view_name": "HTMLView",
            "description": "",
            "description_tooltip": null,
            "layout": "IPY_MODEL_c318f95abaf943249de7ee00fce199c9",
            "placeholder": "​",
            "style": "IPY_MODEL_37c5a8edc9a540cd80303ed64a6bd333",
            "value": " 1.27G/1.27G [00:14&lt;00:00, 97.0MB/s]"
          }
        },
        "f141fb9c12134f93b21d0f8979062a07": {
          "model_module": "@jupyter-widgets/base",
          "model_name": "LayoutModel",
          "model_module_version": "1.2.0",
          "state": {
            "_model_module": "@jupyter-widgets/base",
            "_model_module_version": "1.2.0",
            "_model_name": "LayoutModel",
            "_view_count": null,
            "_view_module": "@jupyter-widgets/base",
            "_view_module_version": "1.2.0",
            "_view_name": "LayoutView",
            "align_content": null,
            "align_items": null,
            "align_self": null,
            "border": null,
            "bottom": null,
            "display": null,
            "flex": null,
            "flex_flow": null,
            "grid_area": null,
            "grid_auto_columns": null,
            "grid_auto_flow": null,
            "grid_auto_rows": null,
            "grid_column": null,
            "grid_gap": null,
            "grid_row": null,
            "grid_template_areas": null,
            "grid_template_columns": null,
            "grid_template_rows": null,
            "height": null,
            "justify_content": null,
            "justify_items": null,
            "left": null,
            "margin": null,
            "max_height": null,
            "max_width": null,
            "min_height": null,
            "min_width": null,
            "object_fit": null,
            "object_position": null,
            "order": null,
            "overflow": null,
            "overflow_x": null,
            "overflow_y": null,
            "padding": null,
            "right": null,
            "top": null,
            "visibility": null,
            "width": null
          }
        },
        "658e073d8312492f8701bcf6c41614c5": {
          "model_module": "@jupyter-widgets/base",
          "model_name": "LayoutModel",
          "model_module_version": "1.2.0",
          "state": {
            "_model_module": "@jupyter-widgets/base",
            "_model_module_version": "1.2.0",
            "_model_name": "LayoutModel",
            "_view_count": null,
            "_view_module": "@jupyter-widgets/base",
            "_view_module_version": "1.2.0",
            "_view_name": "LayoutView",
            "align_content": null,
            "align_items": null,
            "align_self": null,
            "border": null,
            "bottom": null,
            "display": null,
            "flex": null,
            "flex_flow": null,
            "grid_area": null,
            "grid_auto_columns": null,
            "grid_auto_flow": null,
            "grid_auto_rows": null,
            "grid_column": null,
            "grid_gap": null,
            "grid_row": null,
            "grid_template_areas": null,
            "grid_template_columns": null,
            "grid_template_rows": null,
            "height": null,
            "justify_content": null,
            "justify_items": null,
            "left": null,
            "margin": null,
            "max_height": null,
            "max_width": null,
            "min_height": null,
            "min_width": null,
            "object_fit": null,
            "object_position": null,
            "order": null,
            "overflow": null,
            "overflow_x": null,
            "overflow_y": null,
            "padding": null,
            "right": null,
            "top": null,
            "visibility": null,
            "width": null
          }
        },
        "e6e87d2379d3415aaf3715c762ce3de7": {
          "model_module": "@jupyter-widgets/controls",
          "model_name": "DescriptionStyleModel",
          "model_module_version": "1.5.0",
          "state": {
            "_model_module": "@jupyter-widgets/controls",
            "_model_module_version": "1.5.0",
            "_model_name": "DescriptionStyleModel",
            "_view_count": null,
            "_view_module": "@jupyter-widgets/base",
            "_view_module_version": "1.2.0",
            "_view_name": "StyleView",
            "description_width": ""
          }
        },
        "9bb1280a3b644a9288f28eec53a137f4": {
          "model_module": "@jupyter-widgets/base",
          "model_name": "LayoutModel",
          "model_module_version": "1.2.0",
          "state": {
            "_model_module": "@jupyter-widgets/base",
            "_model_module_version": "1.2.0",
            "_model_name": "LayoutModel",
            "_view_count": null,
            "_view_module": "@jupyter-widgets/base",
            "_view_module_version": "1.2.0",
            "_view_name": "LayoutView",
            "align_content": null,
            "align_items": null,
            "align_self": null,
            "border": null,
            "bottom": null,
            "display": null,
            "flex": null,
            "flex_flow": null,
            "grid_area": null,
            "grid_auto_columns": null,
            "grid_auto_flow": null,
            "grid_auto_rows": null,
            "grid_column": null,
            "grid_gap": null,
            "grid_row": null,
            "grid_template_areas": null,
            "grid_template_columns": null,
            "grid_template_rows": null,
            "height": null,
            "justify_content": null,
            "justify_items": null,
            "left": null,
            "margin": null,
            "max_height": null,
            "max_width": null,
            "min_height": null,
            "min_width": null,
            "object_fit": null,
            "object_position": null,
            "order": null,
            "overflow": null,
            "overflow_x": null,
            "overflow_y": null,
            "padding": null,
            "right": null,
            "top": null,
            "visibility": null,
            "width": null
          }
        },
        "8ea498d255684f82ad1c2a8835147a51": {
          "model_module": "@jupyter-widgets/controls",
          "model_name": "ProgressStyleModel",
          "model_module_version": "1.5.0",
          "state": {
            "_model_module": "@jupyter-widgets/controls",
            "_model_module_version": "1.5.0",
            "_model_name": "ProgressStyleModel",
            "_view_count": null,
            "_view_module": "@jupyter-widgets/base",
            "_view_module_version": "1.2.0",
            "_view_name": "StyleView",
            "bar_color": null,
            "description_width": ""
          }
        },
        "c318f95abaf943249de7ee00fce199c9": {
          "model_module": "@jupyter-widgets/base",
          "model_name": "LayoutModel",
          "model_module_version": "1.2.0",
          "state": {
            "_model_module": "@jupyter-widgets/base",
            "_model_module_version": "1.2.0",
            "_model_name": "LayoutModel",
            "_view_count": null,
            "_view_module": "@jupyter-widgets/base",
            "_view_module_version": "1.2.0",
            "_view_name": "LayoutView",
            "align_content": null,
            "align_items": null,
            "align_self": null,
            "border": null,
            "bottom": null,
            "display": null,
            "flex": null,
            "flex_flow": null,
            "grid_area": null,
            "grid_auto_columns": null,
            "grid_auto_flow": null,
            "grid_auto_rows": null,
            "grid_column": null,
            "grid_gap": null,
            "grid_row": null,
            "grid_template_areas": null,
            "grid_template_columns": null,
            "grid_template_rows": null,
            "height": null,
            "justify_content": null,
            "justify_items": null,
            "left": null,
            "margin": null,
            "max_height": null,
            "max_width": null,
            "min_height": null,
            "min_width": null,
            "object_fit": null,
            "object_position": null,
            "order": null,
            "overflow": null,
            "overflow_x": null,
            "overflow_y": null,
            "padding": null,
            "right": null,
            "top": null,
            "visibility": null,
            "width": null
          }
        },
        "37c5a8edc9a540cd80303ed64a6bd333": {
          "model_module": "@jupyter-widgets/controls",
          "model_name": "DescriptionStyleModel",
          "model_module_version": "1.5.0",
          "state": {
            "_model_module": "@jupyter-widgets/controls",
            "_model_module_version": "1.5.0",
            "_model_name": "DescriptionStyleModel",
            "_view_count": null,
            "_view_module": "@jupyter-widgets/base",
            "_view_module_version": "1.2.0",
            "_view_name": "StyleView",
            "description_width": ""
          }
        }
      }
    }
  },
  "cells": [
    {
      "cell_type": "code",
      "execution_count": null,
      "metadata": {
        "id": "k-CZcy_BMC7R"
      },
      "outputs": [],
      "source": []
    },
    {
      "cell_type": "code",
      "source": [
        "!pip install datasets\n",
        "!pip install transformers\n"
      ],
      "metadata": {
        "colab": {
          "base_uri": "https://localhost:8080/"
        },
        "id": "BDVymwHBMclR",
        "outputId": "91d451f5-9a3b-4568-dabd-f9405b82b7f2"
      },
      "execution_count": null,
      "outputs": [
        {
          "output_type": "stream",
          "name": "stdout",
          "text": [
            "Looking in indexes: https://pypi.org/simple, https://us-python.pkg.dev/colab-wheels/public/simple/\n",
            "Collecting datasets\n",
            "  Downloading datasets-2.12.0-py3-none-any.whl (474 kB)\n",
            "\u001b[2K     \u001b[90m━━━━━━━━━━━━━━━━━━━━━━━━━━━━━━━━━━━━━━━\u001b[0m \u001b[32m474.6/474.6 kB\u001b[0m \u001b[31m8.5 MB/s\u001b[0m eta \u001b[36m0:00:00\u001b[0m\n",
            "\u001b[?25hRequirement already satisfied: numpy>=1.17 in /usr/local/lib/python3.10/dist-packages (from datasets) (1.22.4)\n",
            "Requirement already satisfied: pyarrow>=8.0.0 in /usr/local/lib/python3.10/dist-packages (from datasets) (9.0.0)\n",
            "Collecting dill<0.3.7,>=0.3.0 (from datasets)\n",
            "  Downloading dill-0.3.6-py3-none-any.whl (110 kB)\n",
            "\u001b[2K     \u001b[90m━━━━━━━━━━━━━━━━━━━━━━━━━━━━━━━━━━━━━━\u001b[0m \u001b[32m110.5/110.5 kB\u001b[0m \u001b[31m13.2 MB/s\u001b[0m eta \u001b[36m0:00:00\u001b[0m\n",
            "\u001b[?25hRequirement already satisfied: pandas in /usr/local/lib/python3.10/dist-packages (from datasets) (1.5.3)\n",
            "Requirement already satisfied: requests>=2.19.0 in /usr/local/lib/python3.10/dist-packages (from datasets) (2.27.1)\n",
            "Requirement already satisfied: tqdm>=4.62.1 in /usr/local/lib/python3.10/dist-packages (from datasets) (4.65.0)\n",
            "Collecting xxhash (from datasets)\n",
            "  Downloading xxhash-3.2.0-cp310-cp310-manylinux_2_17_x86_64.manylinux2014_x86_64.whl (212 kB)\n",
            "\u001b[2K     \u001b[90m━━━━━━━━━━━━━━━━━━━━━━━━━━━━━━━━━━━━━━\u001b[0m \u001b[32m212.5/212.5 kB\u001b[0m \u001b[31m22.8 MB/s\u001b[0m eta \u001b[36m0:00:00\u001b[0m\n",
            "\u001b[?25hCollecting multiprocess (from datasets)\n",
            "  Downloading multiprocess-0.70.14-py310-none-any.whl (134 kB)\n",
            "\u001b[2K     \u001b[90m━━━━━━━━━━━━━━━━━━━━━━━━━━━━━━━━━━━━━━\u001b[0m \u001b[32m134.3/134.3 kB\u001b[0m \u001b[31m16.2 MB/s\u001b[0m eta \u001b[36m0:00:00\u001b[0m\n",
            "\u001b[?25hRequirement already satisfied: fsspec[http]>=2021.11.1 in /usr/local/lib/python3.10/dist-packages (from datasets) (2023.4.0)\n",
            "Collecting aiohttp (from datasets)\n",
            "  Downloading aiohttp-3.8.4-cp310-cp310-manylinux_2_17_x86_64.manylinux2014_x86_64.whl (1.0 MB)\n",
            "\u001b[2K     \u001b[90m━━━━━━━━━━━━━━━━━━━━━━━━━━━━━━━━━━━━━━━━\u001b[0m \u001b[32m1.0/1.0 MB\u001b[0m \u001b[31m31.0 MB/s\u001b[0m eta \u001b[36m0:00:00\u001b[0m\n",
            "\u001b[?25hCollecting huggingface-hub<1.0.0,>=0.11.0 (from datasets)\n",
            "  Downloading huggingface_hub-0.14.1-py3-none-any.whl (224 kB)\n",
            "\u001b[2K     \u001b[90m━━━━━━━━━━━━━━━━━━━━━━━━━━━━━━━━━━━━━━\u001b[0m \u001b[32m224.5/224.5 kB\u001b[0m \u001b[31m16.8 MB/s\u001b[0m eta \u001b[36m0:00:00\u001b[0m\n",
            "\u001b[?25hRequirement already satisfied: packaging in /usr/local/lib/python3.10/dist-packages (from datasets) (23.1)\n",
            "Collecting responses<0.19 (from datasets)\n",
            "  Downloading responses-0.18.0-py3-none-any.whl (38 kB)\n",
            "Requirement already satisfied: pyyaml>=5.1 in /usr/local/lib/python3.10/dist-packages (from datasets) (6.0)\n",
            "Requirement already satisfied: attrs>=17.3.0 in /usr/local/lib/python3.10/dist-packages (from aiohttp->datasets) (23.1.0)\n",
            "Requirement already satisfied: charset-normalizer<4.0,>=2.0 in /usr/local/lib/python3.10/dist-packages (from aiohttp->datasets) (2.0.12)\n",
            "Collecting multidict<7.0,>=4.5 (from aiohttp->datasets)\n",
            "  Downloading multidict-6.0.4-cp310-cp310-manylinux_2_17_x86_64.manylinux2014_x86_64.whl (114 kB)\n",
            "\u001b[2K     \u001b[90m━━━━━━━━━━━━━━━━━━━━━━━━━━━━━━━━━━━━━━\u001b[0m \u001b[32m114.5/114.5 kB\u001b[0m \u001b[31m10.9 MB/s\u001b[0m eta \u001b[36m0:00:00\u001b[0m\n",
            "\u001b[?25hCollecting async-timeout<5.0,>=4.0.0a3 (from aiohttp->datasets)\n",
            "  Downloading async_timeout-4.0.2-py3-none-any.whl (5.8 kB)\n",
            "Collecting yarl<2.0,>=1.0 (from aiohttp->datasets)\n",
            "  Downloading yarl-1.9.2-cp310-cp310-manylinux_2_17_x86_64.manylinux2014_x86_64.whl (268 kB)\n",
            "\u001b[2K     \u001b[90m━━━━━━━━━━━━━━━━━━━━━━━━━━━━━━━━━━━━━━\u001b[0m \u001b[32m268.8/268.8 kB\u001b[0m \u001b[31m24.7 MB/s\u001b[0m eta \u001b[36m0:00:00\u001b[0m\n",
            "\u001b[?25hCollecting frozenlist>=1.1.1 (from aiohttp->datasets)\n",
            "  Downloading frozenlist-1.3.3-cp310-cp310-manylinux_2_5_x86_64.manylinux1_x86_64.manylinux_2_17_x86_64.manylinux2014_x86_64.whl (149 kB)\n",
            "\u001b[2K     \u001b[90m━━━━━━━━━━━━━━━━━━━━━━━━━━━━━━━━━━━━━━\u001b[0m \u001b[32m149.6/149.6 kB\u001b[0m \u001b[31m15.8 MB/s\u001b[0m eta \u001b[36m0:00:00\u001b[0m\n",
            "\u001b[?25hCollecting aiosignal>=1.1.2 (from aiohttp->datasets)\n",
            "  Downloading aiosignal-1.3.1-py3-none-any.whl (7.6 kB)\n",
            "Requirement already satisfied: filelock in /usr/local/lib/python3.10/dist-packages (from huggingface-hub<1.0.0,>=0.11.0->datasets) (3.12.0)\n",
            "Requirement already satisfied: typing-extensions>=3.7.4.3 in /usr/local/lib/python3.10/dist-packages (from huggingface-hub<1.0.0,>=0.11.0->datasets) (4.5.0)\n",
            "Requirement already satisfied: urllib3<1.27,>=1.21.1 in /usr/local/lib/python3.10/dist-packages (from requests>=2.19.0->datasets) (1.26.15)\n",
            "Requirement already satisfied: certifi>=2017.4.17 in /usr/local/lib/python3.10/dist-packages (from requests>=2.19.0->datasets) (2022.12.7)\n",
            "Requirement already satisfied: idna<4,>=2.5 in /usr/local/lib/python3.10/dist-packages (from requests>=2.19.0->datasets) (3.4)\n",
            "Requirement already satisfied: python-dateutil>=2.8.1 in /usr/local/lib/python3.10/dist-packages (from pandas->datasets) (2.8.2)\n",
            "Requirement already satisfied: pytz>=2020.1 in /usr/local/lib/python3.10/dist-packages (from pandas->datasets) (2022.7.1)\n",
            "Requirement already satisfied: six>=1.5 in /usr/local/lib/python3.10/dist-packages (from python-dateutil>=2.8.1->pandas->datasets) (1.16.0)\n",
            "Installing collected packages: xxhash, multidict, frozenlist, dill, async-timeout, yarl, responses, multiprocess, huggingface-hub, aiosignal, aiohttp, datasets\n",
            "Successfully installed aiohttp-3.8.4 aiosignal-1.3.1 async-timeout-4.0.2 datasets-2.12.0 dill-0.3.6 frozenlist-1.3.3 huggingface-hub-0.14.1 multidict-6.0.4 multiprocess-0.70.14 responses-0.18.0 xxhash-3.2.0 yarl-1.9.2\n",
            "Looking in indexes: https://pypi.org/simple, https://us-python.pkg.dev/colab-wheels/public/simple/\n",
            "Collecting transformers\n",
            "  Downloading transformers-4.28.1-py3-none-any.whl (7.0 MB)\n",
            "\u001b[2K     \u001b[90m━━━━━━━━━━━━━━━━━━━━━━━━━━━━━━━━━━━━━━━━\u001b[0m \u001b[32m7.0/7.0 MB\u001b[0m \u001b[31m25.1 MB/s\u001b[0m eta \u001b[36m0:00:00\u001b[0m\n",
            "\u001b[?25hRequirement already satisfied: filelock in /usr/local/lib/python3.10/dist-packages (from transformers) (3.12.0)\n",
            "Requirement already satisfied: huggingface-hub<1.0,>=0.11.0 in /usr/local/lib/python3.10/dist-packages (from transformers) (0.14.1)\n",
            "Requirement already satisfied: numpy>=1.17 in /usr/local/lib/python3.10/dist-packages (from transformers) (1.22.4)\n",
            "Requirement already satisfied: packaging>=20.0 in /usr/local/lib/python3.10/dist-packages (from transformers) (23.1)\n",
            "Requirement already satisfied: pyyaml>=5.1 in /usr/local/lib/python3.10/dist-packages (from transformers) (6.0)\n",
            "Requirement already satisfied: regex!=2019.12.17 in /usr/local/lib/python3.10/dist-packages (from transformers) (2022.10.31)\n",
            "Requirement already satisfied: requests in /usr/local/lib/python3.10/dist-packages (from transformers) (2.27.1)\n",
            "Collecting tokenizers!=0.11.3,<0.14,>=0.11.1 (from transformers)\n",
            "  Downloading tokenizers-0.13.3-cp310-cp310-manylinux_2_17_x86_64.manylinux2014_x86_64.whl (7.8 MB)\n",
            "\u001b[2K     \u001b[90m━━━━━━━━━━━━━━━━━━━━━━━━━━━━━━━━━━━━━━━━\u001b[0m \u001b[32m7.8/7.8 MB\u001b[0m \u001b[31m28.7 MB/s\u001b[0m eta \u001b[36m0:00:00\u001b[0m\n",
            "\u001b[?25hRequirement already satisfied: tqdm>=4.27 in /usr/local/lib/python3.10/dist-packages (from transformers) (4.65.0)\n",
            "Requirement already satisfied: fsspec in /usr/local/lib/python3.10/dist-packages (from huggingface-hub<1.0,>=0.11.0->transformers) (2023.4.0)\n",
            "Requirement already satisfied: typing-extensions>=3.7.4.3 in /usr/local/lib/python3.10/dist-packages (from huggingface-hub<1.0,>=0.11.0->transformers) (4.5.0)\n",
            "Requirement already satisfied: urllib3<1.27,>=1.21.1 in /usr/local/lib/python3.10/dist-packages (from requests->transformers) (1.26.15)\n",
            "Requirement already satisfied: certifi>=2017.4.17 in /usr/local/lib/python3.10/dist-packages (from requests->transformers) (2022.12.7)\n",
            "Requirement already satisfied: charset-normalizer~=2.0.0 in /usr/local/lib/python3.10/dist-packages (from requests->transformers) (2.0.12)\n",
            "Requirement already satisfied: idna<4,>=2.5 in /usr/local/lib/python3.10/dist-packages (from requests->transformers) (3.4)\n",
            "Installing collected packages: tokenizers, transformers\n",
            "Successfully installed tokenizers-0.13.3 transformers-4.28.1\n"
          ]
        }
      ]
    },
    {
      "cell_type": "code",
      "source": [
        "import pandas as pd\n",
        "\n",
        "df_train = pd.read_csv('/content/drive/MyDrive/Rifat bhai/Training_DATA1/train.tsv',sep=\"\\t\")\n"
      ],
      "metadata": {
        "id": "HbLb_4wJO_DL"
      },
      "execution_count": null,
      "outputs": []
    },
    {
      "cell_type": "code",
      "source": [
        "df_test = pd.read_csv('/content/drive/MyDrive/Rifat bhai/Training_DATA1/test.tsv',sep=\"\\t\")"
      ],
      "metadata": {
        "id": "HMh3--ybPYys"
      },
      "execution_count": null,
      "outputs": []
    },
    {
      "cell_type": "code",
      "source": [
        "df_train"
      ],
      "metadata": {
        "colab": {
          "base_uri": "https://localhost:8080/",
          "height": 424
        },
        "id": "xxxUobfQPWvs",
        "outputId": "be3e3ba9-e4a3-4d61-fc10-f81a51ff1c2d"
      },
      "execution_count": null,
      "outputs": [
        {
          "output_type": "execute_result",
          "data": {
            "text/plain": [
              "             path     id                  sentence\n",
              "0      40d9f0a0d4  b7be9      সপ্তম শ্রেণীর ছাত্রী\n",
              "1      40dab97e48  4dd57                    খুন হন\n",
              "2      40dabfdc0f  e00db         ত্রিপুরা সীমান্তে\n",
              "3      40dae1981f  43b04         গ্রেপ্তার দেখিয়ে\n",
              "4      40db1b00bf  2909b                তখন সবকিছু\n",
              "...           ...    ...                       ...\n",
              "12066  4fff4c5924  b9b98           তিন পুলিশ সদস্য\n",
              "12067  4fff55b0fa  52578  প্রতিবাদ উত্থাপিত হচ্ছিল\n",
              "12068  4fff9c6fee  a06a1    যতদিন দলে থাকবেন ততদিন\n",
              "12069  4fffc201b4  590d0  বাংলা ১৩৮২ সালে প্রকাশিত\n",
              "12070  4fffe0a410  6b437   সারি সারি খাবারের দোকান\n",
              "\n",
              "[12071 rows x 3 columns]"
            ],
            "text/html": [
              "\n",
              "  <div id=\"df-9c9bd2cd-99aa-4947-817d-a6e29f5e760d\">\n",
              "    <div class=\"colab-df-container\">\n",
              "      <div>\n",
              "<style scoped>\n",
              "    .dataframe tbody tr th:only-of-type {\n",
              "        vertical-align: middle;\n",
              "    }\n",
              "\n",
              "    .dataframe tbody tr th {\n",
              "        vertical-align: top;\n",
              "    }\n",
              "\n",
              "    .dataframe thead th {\n",
              "        text-align: right;\n",
              "    }\n",
              "</style>\n",
              "<table border=\"1\" class=\"dataframe\">\n",
              "  <thead>\n",
              "    <tr style=\"text-align: right;\">\n",
              "      <th></th>\n",
              "      <th>path</th>\n",
              "      <th>id</th>\n",
              "      <th>sentence</th>\n",
              "    </tr>\n",
              "  </thead>\n",
              "  <tbody>\n",
              "    <tr>\n",
              "      <th>0</th>\n",
              "      <td>40d9f0a0d4</td>\n",
              "      <td>b7be9</td>\n",
              "      <td>সপ্তম শ্রেণীর ছাত্রী</td>\n",
              "    </tr>\n",
              "    <tr>\n",
              "      <th>1</th>\n",
              "      <td>40dab97e48</td>\n",
              "      <td>4dd57</td>\n",
              "      <td>খুন হন</td>\n",
              "    </tr>\n",
              "    <tr>\n",
              "      <th>2</th>\n",
              "      <td>40dabfdc0f</td>\n",
              "      <td>e00db</td>\n",
              "      <td>ত্রিপুরা সীমান্তে</td>\n",
              "    </tr>\n",
              "    <tr>\n",
              "      <th>3</th>\n",
              "      <td>40dae1981f</td>\n",
              "      <td>43b04</td>\n",
              "      <td>গ্রেপ্তার দেখিয়ে</td>\n",
              "    </tr>\n",
              "    <tr>\n",
              "      <th>4</th>\n",
              "      <td>40db1b00bf</td>\n",
              "      <td>2909b</td>\n",
              "      <td>তখন সবকিছু</td>\n",
              "    </tr>\n",
              "    <tr>\n",
              "      <th>...</th>\n",
              "      <td>...</td>\n",
              "      <td>...</td>\n",
              "      <td>...</td>\n",
              "    </tr>\n",
              "    <tr>\n",
              "      <th>12066</th>\n",
              "      <td>4fff4c5924</td>\n",
              "      <td>b9b98</td>\n",
              "      <td>তিন পুলিশ সদস্য</td>\n",
              "    </tr>\n",
              "    <tr>\n",
              "      <th>12067</th>\n",
              "      <td>4fff55b0fa</td>\n",
              "      <td>52578</td>\n",
              "      <td>প্রতিবাদ উত্থাপিত হচ্ছিল</td>\n",
              "    </tr>\n",
              "    <tr>\n",
              "      <th>12068</th>\n",
              "      <td>4fff9c6fee</td>\n",
              "      <td>a06a1</td>\n",
              "      <td>যতদিন দলে থাকবেন ততদিন</td>\n",
              "    </tr>\n",
              "    <tr>\n",
              "      <th>12069</th>\n",
              "      <td>4fffc201b4</td>\n",
              "      <td>590d0</td>\n",
              "      <td>বাংলা ১৩৮২ সালে প্রকাশিত</td>\n",
              "    </tr>\n",
              "    <tr>\n",
              "      <th>12070</th>\n",
              "      <td>4fffe0a410</td>\n",
              "      <td>6b437</td>\n",
              "      <td>সারি সারি খাবারের দোকান</td>\n",
              "    </tr>\n",
              "  </tbody>\n",
              "</table>\n",
              "<p>12071 rows × 3 columns</p>\n",
              "</div>\n",
              "      <button class=\"colab-df-convert\" onclick=\"convertToInteractive('df-9c9bd2cd-99aa-4947-817d-a6e29f5e760d')\"\n",
              "              title=\"Convert this dataframe to an interactive table.\"\n",
              "              style=\"display:none;\">\n",
              "        \n",
              "  <svg xmlns=\"http://www.w3.org/2000/svg\" height=\"24px\"viewBox=\"0 0 24 24\"\n",
              "       width=\"24px\">\n",
              "    <path d=\"M0 0h24v24H0V0z\" fill=\"none\"/>\n",
              "    <path d=\"M18.56 5.44l.94 2.06.94-2.06 2.06-.94-2.06-.94-.94-2.06-.94 2.06-2.06.94zm-11 1L8.5 8.5l.94-2.06 2.06-.94-2.06-.94L8.5 2.5l-.94 2.06-2.06.94zm10 10l.94 2.06.94-2.06 2.06-.94-2.06-.94-.94-2.06-.94 2.06-2.06.94z\"/><path d=\"M17.41 7.96l-1.37-1.37c-.4-.4-.92-.59-1.43-.59-.52 0-1.04.2-1.43.59L10.3 9.45l-7.72 7.72c-.78.78-.78 2.05 0 2.83L4 21.41c.39.39.9.59 1.41.59.51 0 1.02-.2 1.41-.59l7.78-7.78 2.81-2.81c.8-.78.8-2.07 0-2.86zM5.41 20L4 18.59l7.72-7.72 1.47 1.35L5.41 20z\"/>\n",
              "  </svg>\n",
              "      </button>\n",
              "      \n",
              "  <style>\n",
              "    .colab-df-container {\n",
              "      display:flex;\n",
              "      flex-wrap:wrap;\n",
              "      gap: 12px;\n",
              "    }\n",
              "\n",
              "    .colab-df-convert {\n",
              "      background-color: #E8F0FE;\n",
              "      border: none;\n",
              "      border-radius: 50%;\n",
              "      cursor: pointer;\n",
              "      display: none;\n",
              "      fill: #1967D2;\n",
              "      height: 32px;\n",
              "      padding: 0 0 0 0;\n",
              "      width: 32px;\n",
              "    }\n",
              "\n",
              "    .colab-df-convert:hover {\n",
              "      background-color: #E2EBFA;\n",
              "      box-shadow: 0px 1px 2px rgba(60, 64, 67, 0.3), 0px 1px 3px 1px rgba(60, 64, 67, 0.15);\n",
              "      fill: #174EA6;\n",
              "    }\n",
              "\n",
              "    [theme=dark] .colab-df-convert {\n",
              "      background-color: #3B4455;\n",
              "      fill: #D2E3FC;\n",
              "    }\n",
              "\n",
              "    [theme=dark] .colab-df-convert:hover {\n",
              "      background-color: #434B5C;\n",
              "      box-shadow: 0px 1px 3px 1px rgba(0, 0, 0, 0.15);\n",
              "      filter: drop-shadow(0px 1px 2px rgba(0, 0, 0, 0.3));\n",
              "      fill: #FFFFFF;\n",
              "    }\n",
              "  </style>\n",
              "\n",
              "      <script>\n",
              "        const buttonEl =\n",
              "          document.querySelector('#df-9c9bd2cd-99aa-4947-817d-a6e29f5e760d button.colab-df-convert');\n",
              "        buttonEl.style.display =\n",
              "          google.colab.kernel.accessAllowed ? 'block' : 'none';\n",
              "\n",
              "        async function convertToInteractive(key) {\n",
              "          const element = document.querySelector('#df-9c9bd2cd-99aa-4947-817d-a6e29f5e760d');\n",
              "          const dataTable =\n",
              "            await google.colab.kernel.invokeFunction('convertToInteractive',\n",
              "                                                     [key], {});\n",
              "          if (!dataTable) return;\n",
              "\n",
              "          const docLinkHtml = 'Like what you see? Visit the ' +\n",
              "            '<a target=\"_blank\" href=https://colab.research.google.com/notebooks/data_table.ipynb>data table notebook</a>'\n",
              "            + ' to learn more about interactive tables.';\n",
              "          element.innerHTML = '';\n",
              "          dataTable['output_type'] = 'display_data';\n",
              "          await google.colab.output.renderOutput(dataTable, element);\n",
              "          const docLink = document.createElement('div');\n",
              "          docLink.innerHTML = docLinkHtml;\n",
              "          element.appendChild(docLink);\n",
              "        }\n",
              "      </script>\n",
              "    </div>\n",
              "  </div>\n",
              "  "
            ]
          },
          "metadata": {},
          "execution_count": 5
        }
      ]
    },
    {
      "cell_type": "code",
      "source": [
        "df_test"
      ],
      "metadata": {
        "colab": {
          "base_uri": "https://localhost:8080/",
          "height": 424
        },
        "id": "myQv0JyQPc0K",
        "outputId": "d12e3850-79cb-4eb1-8f89-d0fc58cd0104"
      },
      "execution_count": null,
      "outputs": [
        {
          "output_type": "execute_result",
          "data": {
            "text/plain": [
              "            path     id                    sentence\n",
              "0     48ba41101a  60f77         সবকিছুর বিবর্তন হয়\n",
              "1     48ba5ba09e  e68af               গ্রিক উপকথায়\n",
              "2     48bac6574a  410fa      কিন্তু বঙ্গদর্শনের আমি\n",
              "3     48bac8d2fc  2ee04          বেঁচে যাওয়ার ঘটনা\n",
              "4     48bb3ff16f  b4ea7  পূর্বদৃষ্ট সাপটাও হতে পারে\n",
              "...          ...    ...                         ...\n",
              "2496  4bad7829cd  cd3ac                  ক্যাপাসিটর\n",
              "2497  4bad843504  6aac8  তথ্য-উপাত্ত সংগ্রহের জন্যই\n",
              "2498  4badc11f85  b9b98                কমবেশি তাদের\n",
              "2499  4badc7291d  3faff                  তাহার সহিত\n",
              "2500  4bae64c470  321b6     ১৯৮৩ সালের ৩রা ডিসেম্বর\n",
              "\n",
              "[2501 rows x 3 columns]"
            ],
            "text/html": [
              "\n",
              "  <div id=\"df-0aa4a980-a2da-4c22-8504-e97b843bb613\">\n",
              "    <div class=\"colab-df-container\">\n",
              "      <div>\n",
              "<style scoped>\n",
              "    .dataframe tbody tr th:only-of-type {\n",
              "        vertical-align: middle;\n",
              "    }\n",
              "\n",
              "    .dataframe tbody tr th {\n",
              "        vertical-align: top;\n",
              "    }\n",
              "\n",
              "    .dataframe thead th {\n",
              "        text-align: right;\n",
              "    }\n",
              "</style>\n",
              "<table border=\"1\" class=\"dataframe\">\n",
              "  <thead>\n",
              "    <tr style=\"text-align: right;\">\n",
              "      <th></th>\n",
              "      <th>path</th>\n",
              "      <th>id</th>\n",
              "      <th>sentence</th>\n",
              "    </tr>\n",
              "  </thead>\n",
              "  <tbody>\n",
              "    <tr>\n",
              "      <th>0</th>\n",
              "      <td>48ba41101a</td>\n",
              "      <td>60f77</td>\n",
              "      <td>সবকিছুর বিবর্তন হয়</td>\n",
              "    </tr>\n",
              "    <tr>\n",
              "      <th>1</th>\n",
              "      <td>48ba5ba09e</td>\n",
              "      <td>e68af</td>\n",
              "      <td>গ্রিক উপকথায়</td>\n",
              "    </tr>\n",
              "    <tr>\n",
              "      <th>2</th>\n",
              "      <td>48bac6574a</td>\n",
              "      <td>410fa</td>\n",
              "      <td>কিন্তু বঙ্গদর্শনের আমি</td>\n",
              "    </tr>\n",
              "    <tr>\n",
              "      <th>3</th>\n",
              "      <td>48bac8d2fc</td>\n",
              "      <td>2ee04</td>\n",
              "      <td>বেঁচে যাওয়ার ঘটনা</td>\n",
              "    </tr>\n",
              "    <tr>\n",
              "      <th>4</th>\n",
              "      <td>48bb3ff16f</td>\n",
              "      <td>b4ea7</td>\n",
              "      <td>পূর্বদৃষ্ট সাপটাও হতে পারে</td>\n",
              "    </tr>\n",
              "    <tr>\n",
              "      <th>...</th>\n",
              "      <td>...</td>\n",
              "      <td>...</td>\n",
              "      <td>...</td>\n",
              "    </tr>\n",
              "    <tr>\n",
              "      <th>2496</th>\n",
              "      <td>4bad7829cd</td>\n",
              "      <td>cd3ac</td>\n",
              "      <td>ক্যাপাসিটর</td>\n",
              "    </tr>\n",
              "    <tr>\n",
              "      <th>2497</th>\n",
              "      <td>4bad843504</td>\n",
              "      <td>6aac8</td>\n",
              "      <td>তথ্য-উপাত্ত সংগ্রহের জন্যই</td>\n",
              "    </tr>\n",
              "    <tr>\n",
              "      <th>2498</th>\n",
              "      <td>4badc11f85</td>\n",
              "      <td>b9b98</td>\n",
              "      <td>কমবেশি তাদের</td>\n",
              "    </tr>\n",
              "    <tr>\n",
              "      <th>2499</th>\n",
              "      <td>4badc7291d</td>\n",
              "      <td>3faff</td>\n",
              "      <td>তাহার সহিত</td>\n",
              "    </tr>\n",
              "    <tr>\n",
              "      <th>2500</th>\n",
              "      <td>4bae64c470</td>\n",
              "      <td>321b6</td>\n",
              "      <td>১৯৮৩ সালের ৩রা ডিসেম্বর</td>\n",
              "    </tr>\n",
              "  </tbody>\n",
              "</table>\n",
              "<p>2501 rows × 3 columns</p>\n",
              "</div>\n",
              "      <button class=\"colab-df-convert\" onclick=\"convertToInteractive('df-0aa4a980-a2da-4c22-8504-e97b843bb613')\"\n",
              "              title=\"Convert this dataframe to an interactive table.\"\n",
              "              style=\"display:none;\">\n",
              "        \n",
              "  <svg xmlns=\"http://www.w3.org/2000/svg\" height=\"24px\"viewBox=\"0 0 24 24\"\n",
              "       width=\"24px\">\n",
              "    <path d=\"M0 0h24v24H0V0z\" fill=\"none\"/>\n",
              "    <path d=\"M18.56 5.44l.94 2.06.94-2.06 2.06-.94-2.06-.94-.94-2.06-.94 2.06-2.06.94zm-11 1L8.5 8.5l.94-2.06 2.06-.94-2.06-.94L8.5 2.5l-.94 2.06-2.06.94zm10 10l.94 2.06.94-2.06 2.06-.94-2.06-.94-.94-2.06-.94 2.06-2.06.94z\"/><path d=\"M17.41 7.96l-1.37-1.37c-.4-.4-.92-.59-1.43-.59-.52 0-1.04.2-1.43.59L10.3 9.45l-7.72 7.72c-.78.78-.78 2.05 0 2.83L4 21.41c.39.39.9.59 1.41.59.51 0 1.02-.2 1.41-.59l7.78-7.78 2.81-2.81c.8-.78.8-2.07 0-2.86zM5.41 20L4 18.59l7.72-7.72 1.47 1.35L5.41 20z\"/>\n",
              "  </svg>\n",
              "      </button>\n",
              "      \n",
              "  <style>\n",
              "    .colab-df-container {\n",
              "      display:flex;\n",
              "      flex-wrap:wrap;\n",
              "      gap: 12px;\n",
              "    }\n",
              "\n",
              "    .colab-df-convert {\n",
              "      background-color: #E8F0FE;\n",
              "      border: none;\n",
              "      border-radius: 50%;\n",
              "      cursor: pointer;\n",
              "      display: none;\n",
              "      fill: #1967D2;\n",
              "      height: 32px;\n",
              "      padding: 0 0 0 0;\n",
              "      width: 32px;\n",
              "    }\n",
              "\n",
              "    .colab-df-convert:hover {\n",
              "      background-color: #E2EBFA;\n",
              "      box-shadow: 0px 1px 2px rgba(60, 64, 67, 0.3), 0px 1px 3px 1px rgba(60, 64, 67, 0.15);\n",
              "      fill: #174EA6;\n",
              "    }\n",
              "\n",
              "    [theme=dark] .colab-df-convert {\n",
              "      background-color: #3B4455;\n",
              "      fill: #D2E3FC;\n",
              "    }\n",
              "\n",
              "    [theme=dark] .colab-df-convert:hover {\n",
              "      background-color: #434B5C;\n",
              "      box-shadow: 0px 1px 3px 1px rgba(0, 0, 0, 0.15);\n",
              "      filter: drop-shadow(0px 1px 2px rgba(0, 0, 0, 0.3));\n",
              "      fill: #FFFFFF;\n",
              "    }\n",
              "  </style>\n",
              "\n",
              "      <script>\n",
              "        const buttonEl =\n",
              "          document.querySelector('#df-0aa4a980-a2da-4c22-8504-e97b843bb613 button.colab-df-convert');\n",
              "        buttonEl.style.display =\n",
              "          google.colab.kernel.accessAllowed ? 'block' : 'none';\n",
              "\n",
              "        async function convertToInteractive(key) {\n",
              "          const element = document.querySelector('#df-0aa4a980-a2da-4c22-8504-e97b843bb613');\n",
              "          const dataTable =\n",
              "            await google.colab.kernel.invokeFunction('convertToInteractive',\n",
              "                                                     [key], {});\n",
              "          if (!dataTable) return;\n",
              "\n",
              "          const docLinkHtml = 'Like what you see? Visit the ' +\n",
              "            '<a target=\"_blank\" href=https://colab.research.google.com/notebooks/data_table.ipynb>data table notebook</a>'\n",
              "            + ' to learn more about interactive tables.';\n",
              "          element.innerHTML = '';\n",
              "          dataTable['output_type'] = 'display_data';\n",
              "          await google.colab.output.renderOutput(dataTable, element);\n",
              "          const docLink = document.createElement('div');\n",
              "          docLink.innerHTML = docLinkHtml;\n",
              "          element.appendChild(docLink);\n",
              "        }\n",
              "      </script>\n",
              "    </div>\n",
              "  </div>\n",
              "  "
            ]
          },
          "metadata": {},
          "execution_count": 7
        }
      ]
    },
    {
      "cell_type": "markdown",
      "source": [
        "#Clearing the cache"
      ],
      "metadata": {
        "id": "o-tjpAZdUJSt"
      }
    },
    {
      "cell_type": "code",
      "source": [
        "# from transformers.file_utils import cached_path\n",
        "# cached_path(\"\", force_extract=True)\n"
      ],
      "metadata": {
        "id": "FMYL4_dRQIfi"
      },
      "execution_count": null,
      "outputs": []
    },
    {
      "cell_type": "code",
      "source": [
        "# from transformers import Wav2Vec2Processor\n",
        "\n",
        "# processor = Wav2Vec2Processor.from_pretrained('facebook/wav2vec2-large-xlsr-53')\n"
      ],
      "metadata": {
        "id": "d1uzTNtLPhnp"
      },
      "execution_count": null,
      "outputs": []
    },
    {
      "cell_type": "code",
      "source": [
        "from transformers import Wav2Vec2FeatureExtractor\n",
        "\n",
        "feature_extractor = Wav2Vec2FeatureExtractor(feature_size=1, sampling_rate=16000, padding_value=0.0, do_normalize=True, return_attention_mask=True)"
      ],
      "metadata": {
        "id": "DugE4ZAbPyBl"
      },
      "execution_count": null,
      "outputs": []
    },
    {
      "cell_type": "markdown",
      "source": [
        "#definining the batch size"
      ],
      "metadata": {
        "id": "eW3OIRTvR9lH"
      }
    },
    {
      "cell_type": "code",
      "source": [
        "import re\n",
        "chars_to_ignore_regex = '[\\,\\?\\.\\!\\-\\;\\:\\\"\\“\\%\\‘\\”\\�]'\n",
        "\n",
        "def remove_special_characters(batch):\n",
        "    batch[\"sentence\"] = re.sub(chars_to_ignore_regex, '', batch[\"sentence\"]).lower() + \" \"\n",
        "    return batch"
      ],
      "metadata": {
        "id": "4d-fp5sHR70q"
      },
      "execution_count": null,
      "outputs": []
    },
    {
      "cell_type": "code",
      "source": [
        "def extract_all_chars(batch):\n",
        "  all_text = \" \".join(batch[\"sentence\"])\n",
        "  vocab = list(set(all_text))\n",
        "  return {\"vocab\": [vocab], \"all_text\": [all_text]}"
      ],
      "metadata": {
        "id": "KPaLSL2oSAmb"
      },
      "execution_count": null,
      "outputs": []
    },
    {
      "cell_type": "markdown",
      "source": [
        "Vocab mapping"
      ],
      "metadata": {
        "id": "sdDBLXRfSU1L"
      }
    },
    {
      "cell_type": "code",
      "source": [
        "import datasets"
      ],
      "metadata": {
        "id": "XJCUzukwVMu5"
      },
      "execution_count": null,
      "outputs": []
    },
    {
      "cell_type": "code",
      "source": [
        "dataset_train = datasets.Dataset.from_pandas(df_train)\n",
        "dataset_test = datasets.Dataset.from_pandas(df_test)"
      ],
      "metadata": {
        "id": "qsMWmF0oVMAO"
      },
      "execution_count": null,
      "outputs": []
    },
    {
      "cell_type": "code",
      "source": [
        "vocab_train = dataset_train.map(extract_all_chars, batched=True, batch_size=-1, keep_in_memory=True, remove_columns=dataset_train.column_names)\n",
        "vocab_test = dataset_test.map(extract_all_chars, batched=True, batch_size=-1, keep_in_memory=True, remove_columns=dataset_test.column_names)"
      ],
      "metadata": {
        "colab": {
          "base_uri": "https://localhost:8080/",
          "height": 17,
          "referenced_widgets": [
            "7ad738de187c4d1a91654b689272d16d",
            "d79a7d0e852f449b8ad5fc6279a1388b",
            "8fab617e170e4e7c96a5345cda64101b",
            "7fa1e1932408415c9d00ebcd4118311f",
            "ff8f3a6305e2432ba2a71a0a625d051e",
            "e2165ab75eb54032b6961a0b8fe1836c",
            "95a60fac6a434469ac8ef48ba06f5726",
            "34d3def6db0644bf858f4339fe53ff99",
            "da32ad37622e4bce90ee89ef7d74648a",
            "a129e447a1ca4b9ca536442e63841cb5",
            "7724840232dc4bca8a1d979c37b4d98a",
            "6d89d36ed937402294f15e00d3499e6d",
            "f9d1efaa95994fe6b4fca286b4f049a3",
            "29cc3f334b244be3bd0f9e6ad664cd85",
            "98c12967aa01410085b8f9fbf2c1356e",
            "775245db0ceb45f28f1b3d4d5f2a1fca",
            "9944e89c159e4c03bb7780134d6aa3c1",
            "ca27155aa121442aa1ad7bc51e92546f",
            "541db88bbd3f493d98c73546b59d5d61",
            "8a8274d224ac481686b0a5177a05ba3e",
            "d261fdce6c2f486c92df29b67d9a9c66",
            "f0e725a7a6fe42efa6a5bca0adeaace9"
          ]
        },
        "id": "idL-KkW2SN_o",
        "outputId": "28e9d15b-2943-4199-9394-3e915fbd4fb1"
      },
      "execution_count": null,
      "outputs": [
        {
          "output_type": "display_data",
          "data": {
            "text/plain": [
              "Map:   0%|          | 0/12071 [00:00<?, ? examples/s]"
            ],
            "application/vnd.jupyter.widget-view+json": {
              "version_major": 2,
              "version_minor": 0,
              "model_id": "7ad738de187c4d1a91654b689272d16d"
            }
          },
          "metadata": {}
        },
        {
          "output_type": "display_data",
          "data": {
            "text/plain": [
              "Map:   0%|          | 0/2501 [00:00<?, ? examples/s]"
            ],
            "application/vnd.jupyter.widget-view+json": {
              "version_major": 2,
              "version_minor": 0,
              "model_id": "6d89d36ed937402294f15e00d3499e6d"
            }
          },
          "metadata": {}
        }
      ]
    },
    {
      "cell_type": "code",
      "source": [
        "vocab_list = list(set(vocab_train[\"vocab\"][0]) | set(vocab_test[\"vocab\"][0]))"
      ],
      "metadata": {
        "id": "4wjmTi4ISXBz"
      },
      "execution_count": null,
      "outputs": []
    },
    {
      "cell_type": "code",
      "source": [
        "vocab_dict = {v: k for k, v in enumerate(vocab_list)}\n",
        "vocab_dict"
      ],
      "metadata": {
        "colab": {
          "base_uri": "https://localhost:8080/"
        },
        "id": "MEj8FYzsR81N",
        "outputId": "cc759e2e-dfe1-4d21-9502-bc3b2828e2f0"
      },
      "execution_count": null,
      "outputs": [
        {
          "output_type": "execute_result",
          "data": {
            "text/plain": [
              "{'d': 0,\n",
              " 'ঢ': 1,\n",
              " 'ড়': 2,\n",
              " 'ঃ': 3,\n",
              " '/': 4,\n",
              " 'ট': 5,\n",
              " 'ন': 6,\n",
              " 'ড': 7,\n",
              " 'ম': 8,\n",
              " 'ঈ': 9,\n",
              " 'য': 10,\n",
              " '.': 11,\n",
              " 'ভ': 12,\n",
              " 't': 13,\n",
              " 'ৎ': 14,\n",
              " 'ক': 15,\n",
              " '1': 16,\n",
              " 'ো': 17,\n",
              " 'ী': 18,\n",
              " 'ত': 19,\n",
              " '…': 20,\n",
              " ' ': 21,\n",
              " 'ু': 22,\n",
              " '?': 23,\n",
              " 'e': 24,\n",
              " 'ণ': 25,\n",
              " 'ল': 26,\n",
              " 'ঔ': 27,\n",
              " '৩': 28,\n",
              " 'অ': 29,\n",
              " 'আ': 30,\n",
              " '0': 31,\n",
              " '\\x93': 32,\n",
              " 'জ': 33,\n",
              " '5': 34,\n",
              " ',': 35,\n",
              " 'ং': 36,\n",
              " 'হ': 37,\n",
              " 'ঞ': 38,\n",
              " 'o': 39,\n",
              " 'শ': 40,\n",
              " '৮': 41,\n",
              " 'v': 42,\n",
              " '\"': 43,\n",
              " 'এ': 44,\n",
              " 'ঝ': 45,\n",
              " '৬': 46,\n",
              " '৯': 47,\n",
              " 'n': 48,\n",
              " 'y': 49,\n",
              " '‘': 50,\n",
              " '–': 51,\n",
              " 'থ': 52,\n",
              " '9': 53,\n",
              " 's': 54,\n",
              " 'ঘ': 55,\n",
              " 'w': 56,\n",
              " '়': 57,\n",
              " '4': 58,\n",
              " 'র': 59,\n",
              " 'গ': 60,\n",
              " 'ঁ': 61,\n",
              " 'ও': 62,\n",
              " 'স': 63,\n",
              " 'প': 64,\n",
              " '\\x94': 65,\n",
              " 'ি': 66,\n",
              " 'l': 67,\n",
              " 'u': 68,\n",
              " '১': 69,\n",
              " 'p': 70,\n",
              " 'a': 71,\n",
              " 'উ': 72,\n",
              " 'া': 73,\n",
              " 'ধ': 74,\n",
              " 'ঋ': 75,\n",
              " 'f': 76,\n",
              " '-': 77,\n",
              " 'ষ': 78,\n",
              " 'য়': 79,\n",
              " ':': 80,\n",
              " 'ঊ': 81,\n",
              " '!': 82,\n",
              " '২': 83,\n",
              " 'i': 84,\n",
              " 'ঐ': 85,\n",
              " 'c': 86,\n",
              " '\\u200c': 87,\n",
              " 'ে': 88,\n",
              " 'ছ': 89,\n",
              " 'দ': 90,\n",
              " 'ফ': 91,\n",
              " 'খ': 92,\n",
              " '\\u200d': 93,\n",
              " '৪': 94,\n",
              " '8': 95,\n",
              " 'ূ': 96,\n",
              " '7': 97,\n",
              " 'চ': 98,\n",
              " '’': 99,\n",
              " '6': 100,\n",
              " 'ব': 101,\n",
              " 'b': 102,\n",
              " 'h': 103,\n",
              " 'ঙ': 104,\n",
              " '2': 105,\n",
              " 'ৌ': 106,\n",
              " '৫': 107,\n",
              " 'r': 108,\n",
              " 'ৈ': 109,\n",
              " '০': 110,\n",
              " 'ৃ': 111,\n",
              " '\\n': 112,\n",
              " 'x': 113,\n",
              " '্': 114,\n",
              " '3': 115,\n",
              " \"'\": 116,\n",
              " 'ই': 117,\n",
              " '।': 118,\n",
              " 'ঠ': 119,\n",
              " '%': 120,\n",
              " '৭': 121}"
            ]
          },
          "metadata": {},
          "execution_count": 22
        }
      ]
    },
    {
      "cell_type": "code",
      "source": [
        "vocab_dict[\"|\"] = vocab_dict[\" \"]\n",
        "del vocab_dict[\" \"]"
      ],
      "metadata": {
        "id": "0xoTlmh8S0t6"
      },
      "execution_count": null,
      "outputs": []
    },
    {
      "cell_type": "code",
      "source": [
        "vocab_dict[\"[UNK]\"] = len(vocab_dict)\n",
        "vocab_dict[\"[PAD]\"] = len(vocab_dict)\n",
        "len(vocab_dict)"
      ],
      "metadata": {
        "colab": {
          "base_uri": "https://localhost:8080/"
        },
        "id": "Lp8xb2NHS1aF",
        "outputId": "4feab02f-e054-4e97-d011-0bc3f1a8e6b5"
      },
      "execution_count": null,
      "outputs": [
        {
          "output_type": "execute_result",
          "data": {
            "text/plain": [
              "124"
            ]
          },
          "metadata": {},
          "execution_count": 24
        }
      ]
    },
    {
      "cell_type": "code",
      "source": [
        "import json\n",
        "with open('vocab.json', 'w') as vocab_file:\n",
        "    json.dump(vocab_dict, vocab_file)"
      ],
      "metadata": {
        "id": "Cf2EIpEhS231"
      },
      "execution_count": null,
      "outputs": []
    },
    {
      "cell_type": "code",
      "source": [
        "from transformers import Wav2Vec2CTCTokenizer\n",
        "\n",
        "tokenizer = Wav2Vec2CTCTokenizer(\"./vocab.json\", unk_token=\"[UNK]\", pad_token=\"[PAD]\", word_delimiter_token=\"|\")"
      ],
      "metadata": {
        "id": "JgbZMnv-TUfg"
      },
      "execution_count": null,
      "outputs": []
    },
    {
      "cell_type": "code",
      "source": [
        "from transformers import Wav2Vec2FeatureExtractor\n",
        "\n",
        "feature_extractor = Wav2Vec2FeatureExtractor(feature_size=1, sampling_rate=16000, padding_value=0.0, do_normalize=True, return_attention_mask=True)"
      ],
      "metadata": {
        "id": "U7wIgYGOTWqv"
      },
      "execution_count": null,
      "outputs": []
    },
    {
      "cell_type": "code",
      "source": [
        "from transformers import Wav2Vec2Processor\n",
        "\n",
        "processor = Wav2Vec2Processor(feature_extractor=feature_extractor, tokenizer=tokenizer)"
      ],
      "metadata": {
        "id": "CGUBGSKJTXan"
      },
      "execution_count": null,
      "outputs": []
    },
    {
      "cell_type": "code",
      "source": [
        "dataset_train"
      ],
      "metadata": {
        "colab": {
          "base_uri": "https://localhost:8080/"
        },
        "id": "wGqsfhG9mNIu",
        "outputId": "9f282e9b-c6d2-41c8-a616-7eabb44735f1"
      },
      "execution_count": 77,
      "outputs": [
        {
          "output_type": "execute_result",
          "data": {
            "text/plain": [
              "Dataset({\n",
              "    features: ['path', 'id', 'sentence'],\n",
              "    num_rows: 12071\n",
              "})"
            ]
          },
          "metadata": {},
          "execution_count": 77
        }
      ]
    },
    {
      "cell_type": "code",
      "source": [
        "dataset_train[0][\"path\"]"
      ],
      "metadata": {
        "colab": {
          "base_uri": "https://localhost:8080/",
          "height": 35
        },
        "id": "QHlVs5x_T4L1",
        "outputId": "30c2aaf9-4abf-4c5b-8bd1-963218e60d65"
      },
      "execution_count": null,
      "outputs": [
        {
          "output_type": "execute_result",
          "data": {
            "text/plain": [
              "'40d9f0a0d4'"
            ],
            "application/vnd.google.colaboratory.intrinsic+json": {
              "type": "string"
            }
          },
          "metadata": {},
          "execution_count": 30
        }
      ]
    },
    {
      "cell_type": "code",
      "source": [
        "dataset_train[0][\"id\"]"
      ],
      "metadata": {
        "colab": {
          "base_uri": "https://localhost:8080/",
          "height": 35
        },
        "id": "jjUQDiqjVx5Z",
        "outputId": "66c295df-2ae1-481f-d1d4-a67a387333d3"
      },
      "execution_count": 69,
      "outputs": [
        {
          "output_type": "execute_result",
          "data": {
            "text/plain": [
              "'b7be9'"
            ],
            "application/vnd.google.colaboratory.intrinsic+json": {
              "type": "string"
            }
          },
          "metadata": {},
          "execution_count": 69
        }
      ]
    },
    {
      "cell_type": "code",
      "source": [
        "import IPython.display as ipd\n",
        "import numpy as np\n",
        "import random\n",
        "\n",
        "rand_int = random.randint(0, len(dataset_train)-1)\n",
        "\n",
        "ipd.Audio(data=dataset_train[rand_int][\"path\"][\"array\"], autoplay=True, rate=16000)"
      ],
      "metadata": {
        "id": "iriS96yAT9Ce"
      },
      "execution_count": null,
      "outputs": []
    },
    {
      "cell_type": "code",
      "source": [
        "print(path)"
      ],
      "metadata": {
        "id": "NeWscf7YXAyT"
      },
      "execution_count": null,
      "outputs": []
    },
    {
      "cell_type": "markdown",
      "source": [
        "#Resampling the dataset"
      ],
      "metadata": {
        "id": "Ykrl3C4qk9Im"
      }
    },
    {
      "cell_type": "code",
      "source": [
        "# import librosa\n",
        "# import IPython.display as ipd\n",
        "\n",
        "# for i in range(0,len(dataset_train)-1):\n",
        "#   dpath='/content/drive/MyDrive/Rifat bhai/Training_DATA1/clips/'+dataset_train[i][\"path\"]+\".flac\"\n",
        "#   audio_file, sr = librosa.load('/path/to/audio/file.wav', sr=16000)\n"
      ],
      "metadata": {
        "id": "j8BOfb8Yk8RA"
      },
      "execution_count": 72,
      "outputs": []
    },
    {
      "cell_type": "code",
      "source": [
        "dataset_train = dataset_train.remove_columns(\"id\")\n",
        "dataset_test = dataset_test.remove_columns(\"id\")"
      ],
      "metadata": {
        "id": "D96if1muoJwY"
      },
      "execution_count": 84,
      "outputs": []
    },
    {
      "cell_type": "code",
      "source": [
        "dataset_train = dataset_train[:100]\n",
        "dataset_test = dataset_test[:100]\n"
      ],
      "metadata": {
        "id": "Io4zeet-q4mn"
      },
      "execution_count": 85,
      "outputs": []
    },
    {
      "cell_type": "code",
      "source": [
        "dataset_train"
      ],
      "metadata": {
        "colab": {
          "base_uri": "https://localhost:8080/"
        },
        "id": "9Qo4aIknoL4E",
        "outputId": "32b4bcbd-1ce8-447b-a457-6c8f37fda5b3"
      },
      "execution_count": 86,
      "outputs": [
        {
          "output_type": "execute_result",
          "data": {
            "text/plain": [
              "{'path': ['40d9f0a0d4',\n",
              "  '40dab97e48',\n",
              "  '40dabfdc0f',\n",
              "  '40dae1981f',\n",
              "  '40db1b00bf',\n",
              "  '40db6e1c5b',\n",
              "  '40dba32db7',\n",
              "  '40dc01e675',\n",
              "  '40dc0d98ea',\n",
              "  '40dc370846',\n",
              "  '40dcc9482a',\n",
              "  '40dd4fa31d',\n",
              "  '40de2c17fa',\n",
              "  '40de2ca8ae',\n",
              "  '40de304a82',\n",
              "  '40de626104',\n",
              "  '40de99cb19',\n",
              "  '40deccbdc9',\n",
              "  '40deedcae9',\n",
              "  '40df39000b',\n",
              "  '40df5bdb11',\n",
              "  '40df820513',\n",
              "  '40df9d0de0',\n",
              "  '40df9e3271',\n",
              "  '40df9ef60f',\n",
              "  '40dfa7d447',\n",
              "  '40e067adaa',\n",
              "  '40e0a1e1a1',\n",
              "  '40e1762dae',\n",
              "  '40e21cf57a',\n",
              "  '40e23fb4fa',\n",
              "  '40e2659659',\n",
              "  '40e2957b4c',\n",
              "  '40e2a3d027',\n",
              "  '40e315e47b',\n",
              "  '40e375fff6',\n",
              "  '40e41478b2',\n",
              "  '40e56bea96',\n",
              "  '40e60ca110',\n",
              "  '40e6ba31a6',\n",
              "  '40e6bc3c41',\n",
              "  '40e7337b5b',\n",
              "  '40e7998bfb',\n",
              "  '40e7c82394',\n",
              "  '40e951e437',\n",
              "  '40e9c68ac4',\n",
              "  '40eb0fc720',\n",
              "  '40ebf90f52',\n",
              "  '40ec7882e1',\n",
              "  '40ec7adbb8',\n",
              "  '40ec8a4a72',\n",
              "  '40ed668708',\n",
              "  '40edaa8934',\n",
              "  '40edc380e1',\n",
              "  '40ededfa77',\n",
              "  '40ee1fa2f5',\n",
              "  '40ee238979',\n",
              "  '40ee3b49d5',\n",
              "  '40ee4bcde9',\n",
              "  '40ee8c843c',\n",
              "  '40ee941413',\n",
              "  '40eead6c58',\n",
              "  '40eefbfb23',\n",
              "  '40ef552830',\n",
              "  '40efb4da4b',\n",
              "  '40effc6007',\n",
              "  '40f007eaad',\n",
              "  '40f0b650dc',\n",
              "  '40f0d43747',\n",
              "  '40f16226ea',\n",
              "  '40f273a634',\n",
              "  '40f2cb7697',\n",
              "  '40f2f294db',\n",
              "  '40f3930ab2',\n",
              "  '40f3fa9672',\n",
              "  '40f4220e32',\n",
              "  '40f423cba7',\n",
              "  '40f4336edc',\n",
              "  '40f4371ae1',\n",
              "  '40f468e301',\n",
              "  '40f4823caf',\n",
              "  '40f507d06a',\n",
              "  '40f56ed57a',\n",
              "  '40f5a2b68c',\n",
              "  '40f5cbf065',\n",
              "  '40f628c69a',\n",
              "  '40f62be4d3',\n",
              "  '40f68252fc',\n",
              "  '40f6c651db',\n",
              "  '40f700f99d',\n",
              "  '40f7a5002d',\n",
              "  '40f7b59b7f',\n",
              "  '40f7cd1b4b',\n",
              "  '40f844674c',\n",
              "  '40f8629f2d',\n",
              "  '40f881e1af',\n",
              "  '40f8a12970',\n",
              "  '40f9124f98',\n",
              "  '40f92591f2',\n",
              "  '40f9444f2d'],\n",
              " 'sentence': ['সপ্তম শ্রেণীর ছাত্রী',\n",
              "  'খুন হন',\n",
              "  'ত্রিপুরা সীমান্তে',\n",
              "  'গ্রেপ্তার দেখিয়ে',\n",
              "  'তখন সবকিছু',\n",
              "  'মালিকদের আপত্তি এখানে গুরুত্ব পায়নি।',\n",
              "  'খোলামেলা',\n",
              "  'তাদের ফেরত পাঠিয়েছে',\n",
              "  'বিনোদন কলকাতা খবর ২৪',\n",
              "  'মামলা দুটি করেন',\n",
              "  'বিজ্ঞাপনে নারীকে পণ্য হিসেবে',\n",
              "  'বিজ্ঞাপনের মান নিয়ে',\n",
              "  'হাদিসে কুদসি',\n",
              "  'সামাজিক স্থিতিটাই',\n",
              "  'বাংলাদেশের পাবনা জেলায়',\n",
              "  'দলে রাখা হয়নি',\n",
              "  'আমার কথা হচ্ছে',\n",
              "  'যুদ্ধের পর',\n",
              "  'ঘোড়ার মাংসকে গরুর মাংস বলে বিক্রি করার অভিযোগ নিয়ে ইউরোপ-জুড়ে তুলকালাম চলছে।',\n",
              "  'হামলার চেষ্টা হয়',\n",
              "  'আমাকে বললেন',\n",
              "  'দুজনই ছিলেন উইকেটশূন্য',\n",
              "  'বৈঠক করেছে',\n",
              "  'কাসেম শিকদারের বাড়ি',\n",
              "  'দৈনিক ফেনী প্রতিদিন',\n",
              "  'যে বেশি আয় করবে',\n",
              "  'ভারতের কেন্দ্রীয়',\n",
              "  'সিনিয়র আইনজীবী অংশ নিয়েছিলেন',\n",
              "  'বাহিনীর প্রধান',\n",
              "  'বুকের কাছে জড়ো করে',\n",
              "  'এসিটিক এসিড',\n",
              "  'দূরে ছিলাম',\n",
              "  'আর বলা যাবে না',\n",
              "  'অপেক্ষাকৃত কম',\n",
              "  'কেউ জানত না',\n",
              "  'চয়ন',\n",
              "  'তখন সেনার মধ্যে',\n",
              "  'আক্ষেপে দেখা যায়',\n",
              "  'মলিন এক শাড়ি',\n",
              "  'শ্রমিকদের আবার',\n",
              "  'বিশ্বের সেরা ধনী ক্লাবের',\n",
              "  'এরা মূলত চীন থেকে',\n",
              "  'প্রসঙ্গটি শত শত বছরের',\n",
              "  'বিকেল অবধি অফিস',\n",
              "  'তাঁকে রিকশায় তুলে',\n",
              "  'পুরুষ রমণী',\n",
              "  'অধিকাংশ নেতা',\n",
              "  'একই ছাঁচে ঢালা',\n",
              "  'অভিযানে সম্মতি',\n",
              "  'এর জন্য কোনো',\n",
              "  'মানুষ মেনে নিল',\n",
              "  'ভিখুর যে দ্রোহ',\n",
              "  'চেংটি, ছোট শোল',\n",
              "  'প্যাডেল করে',\n",
              "  'কার্যভার গ্রহণের তারিখ থেকে',\n",
              "  'রাজস্ব আদায়ের জন্য',\n",
              "  'স্নায়বিক রোগ',\n",
              "  'বর্তমানে খুচরা পর্যায়ে',\n",
              "  'বিজেপি সমর্থিত প্রার্থী',\n",
              "  'তারা পদত্যাগপত্র জমা দিয়েছেন',\n",
              "  'পর্যবেক্ষণ করা হয়েছে',\n",
              "  'এ ব্যাপারে একটি',\n",
              "  'হাসপাতালে তার',\n",
              "  'তিনি ধৈর্য ধরে',\n",
              "  'হাজার হাজার মাইল',\n",
              "  'দাম বাড়ার কারণেই',\n",
              "  'জন আব্রাহাম',\n",
              "  'কামরুল ইসলাম',\n",
              "  'এ কালের',\n",
              "  'এ হলো ভারতীয়',\n",
              "  'গতকালকের দিনটা ছিল',\n",
              "  'প্রথম মুহূর্তের কথা',\n",
              "  'জয়া এ পর্যন্ত',\n",
              "  'যাও পাখি বল তারে',\n",
              "  'দেড় মাস',\n",
              "  'অভিনেত্রী হিসেবে সালমানের বিপরীতে',\n",
              "  'অনবরত পাপ করতে থাকে',\n",
              "  'পশ্চিম পাকিস্তান থেকে',\n",
              "  'রাজনৈতিক, অর্থনৈতিক, বাণিজ্যিক',\n",
              "  'অকল্যান্ড সিটি আর্ট গ্যালারি',\n",
              "  'সেই জন্য আমাদের',\n",
              "  'অভিনব কল্পনাশক্তি প্রয়োগ করে',\n",
              "  'এছাড়াও তিনি জানিয়েছেন',\n",
              "  'ঘটনাস্থলে থাকা পথচারীরা',\n",
              "  'সন্ধান করেছেন',\n",
              "  'এ হত্যাকাণ্ড ঘটেছে',\n",
              "  'ডিসেম্বরের প্রথম বৃহস্পতিবার',\n",
              "  'আদিল ও অধিকারের পরিচালক',\n",
              "  'এটাই সাম্প্রতিক সময়ের',\n",
              "  'এর আগে ইউক্রেইনের ক্রিমিয়া অঞ্চলের',\n",
              "  'অপভ্রংশ শব্দটির',\n",
              "  'পৃথিবীর সর্বপ্রথম নবী',\n",
              "  'জগত এবং জীবনকে',\n",
              "  'বাজার থেইকা কিইনা',\n",
              "  'মোট পাঁচজনকে আসামি করা হয়',\n",
              "  'নেপালের সেবা সংস্থা',\n",
              "  'শুটিং শেষ করেই',\n",
              "  'তবে কলকাতার মধ্যে',\n",
              "  'কিন্তু টেস্ট',\n",
              "  'ময়নামতি']}"
            ]
          },
          "metadata": {},
          "execution_count": 86
        }
      ]
    },
    {
      "cell_type": "code",
      "source": [
        " dpath = '/content/drive/MyDrive/Rifat bhai/Training_DATA1/clips/' + dataset_train['path'][0] + '.flac'"
      ],
      "metadata": {
        "id": "g7E8rCtLrPpT"
      },
      "execution_count": 90,
      "outputs": []
    },
    {
      "cell_type": "code",
      "source": [
        "import os\n",
        "import librosa\n",
        "from datasets import load_dataset\n",
        "dataset_train['audio'] = []\n",
        "\n",
        "for i in range(len(dataset_train)):\n",
        "    try:\n",
        "        dpath = '/content/drive/MyDrive/Rifat bhai/Training_DATA1/clips/' + dataset_train['path'][i] + '.flac'\n",
        "        audio_file, sr = librosa.load(dpath, sr=16000)\n",
        "        dataset_train['audio'].append({'array': audio_file, 'path': dpath, 'sampling_rate': sr})\n",
        "    except FileNotFoundError:\n",
        "        print(f\"File not found for index {i}: {dpath}\")\n"
      ],
      "metadata": {
        "id": "butDb2jon9XB"
      },
      "execution_count": 94,
      "outputs": []
    },
    {
      "cell_type": "code",
      "source": [
        "dataset_train"
      ],
      "metadata": {
        "colab": {
          "base_uri": "https://localhost:8080/"
        },
        "id": "t_YcgJhOsahA",
        "outputId": "f7b80586-4121-411f-a324-81ae2fd9a1dc"
      },
      "execution_count": 95,
      "outputs": [
        {
          "output_type": "execute_result",
          "data": {
            "text/plain": [
              "{'path': ['40d9f0a0d4',\n",
              "  '40dab97e48',\n",
              "  '40dabfdc0f',\n",
              "  '40dae1981f',\n",
              "  '40db1b00bf',\n",
              "  '40db6e1c5b',\n",
              "  '40dba32db7',\n",
              "  '40dc01e675',\n",
              "  '40dc0d98ea',\n",
              "  '40dc370846',\n",
              "  '40dcc9482a',\n",
              "  '40dd4fa31d',\n",
              "  '40de2c17fa',\n",
              "  '40de2ca8ae',\n",
              "  '40de304a82',\n",
              "  '40de626104',\n",
              "  '40de99cb19',\n",
              "  '40deccbdc9',\n",
              "  '40deedcae9',\n",
              "  '40df39000b',\n",
              "  '40df5bdb11',\n",
              "  '40df820513',\n",
              "  '40df9d0de0',\n",
              "  '40df9e3271',\n",
              "  '40df9ef60f',\n",
              "  '40dfa7d447',\n",
              "  '40e067adaa',\n",
              "  '40e0a1e1a1',\n",
              "  '40e1762dae',\n",
              "  '40e21cf57a',\n",
              "  '40e23fb4fa',\n",
              "  '40e2659659',\n",
              "  '40e2957b4c',\n",
              "  '40e2a3d027',\n",
              "  '40e315e47b',\n",
              "  '40e375fff6',\n",
              "  '40e41478b2',\n",
              "  '40e56bea96',\n",
              "  '40e60ca110',\n",
              "  '40e6ba31a6',\n",
              "  '40e6bc3c41',\n",
              "  '40e7337b5b',\n",
              "  '40e7998bfb',\n",
              "  '40e7c82394',\n",
              "  '40e951e437',\n",
              "  '40e9c68ac4',\n",
              "  '40eb0fc720',\n",
              "  '40ebf90f52',\n",
              "  '40ec7882e1',\n",
              "  '40ec7adbb8',\n",
              "  '40ec8a4a72',\n",
              "  '40ed668708',\n",
              "  '40edaa8934',\n",
              "  '40edc380e1',\n",
              "  '40ededfa77',\n",
              "  '40ee1fa2f5',\n",
              "  '40ee238979',\n",
              "  '40ee3b49d5',\n",
              "  '40ee4bcde9',\n",
              "  '40ee8c843c',\n",
              "  '40ee941413',\n",
              "  '40eead6c58',\n",
              "  '40eefbfb23',\n",
              "  '40ef552830',\n",
              "  '40efb4da4b',\n",
              "  '40effc6007',\n",
              "  '40f007eaad',\n",
              "  '40f0b650dc',\n",
              "  '40f0d43747',\n",
              "  '40f16226ea',\n",
              "  '40f273a634',\n",
              "  '40f2cb7697',\n",
              "  '40f2f294db',\n",
              "  '40f3930ab2',\n",
              "  '40f3fa9672',\n",
              "  '40f4220e32',\n",
              "  '40f423cba7',\n",
              "  '40f4336edc',\n",
              "  '40f4371ae1',\n",
              "  '40f468e301',\n",
              "  '40f4823caf',\n",
              "  '40f507d06a',\n",
              "  '40f56ed57a',\n",
              "  '40f5a2b68c',\n",
              "  '40f5cbf065',\n",
              "  '40f628c69a',\n",
              "  '40f62be4d3',\n",
              "  '40f68252fc',\n",
              "  '40f6c651db',\n",
              "  '40f700f99d',\n",
              "  '40f7a5002d',\n",
              "  '40f7b59b7f',\n",
              "  '40f7cd1b4b',\n",
              "  '40f844674c',\n",
              "  '40f8629f2d',\n",
              "  '40f881e1af',\n",
              "  '40f8a12970',\n",
              "  '40f9124f98',\n",
              "  '40f92591f2',\n",
              "  '40f9444f2d'],\n",
              " 'sentence': ['সপ্তম শ্রেণীর ছাত্রী',\n",
              "  'খুন হন',\n",
              "  'ত্রিপুরা সীমান্তে',\n",
              "  'গ্রেপ্তার দেখিয়ে',\n",
              "  'তখন সবকিছু',\n",
              "  'মালিকদের আপত্তি এখানে গুরুত্ব পায়নি।',\n",
              "  'খোলামেলা',\n",
              "  'তাদের ফেরত পাঠিয়েছে',\n",
              "  'বিনোদন কলকাতা খবর ২৪',\n",
              "  'মামলা দুটি করেন',\n",
              "  'বিজ্ঞাপনে নারীকে পণ্য হিসেবে',\n",
              "  'বিজ্ঞাপনের মান নিয়ে',\n",
              "  'হাদিসে কুদসি',\n",
              "  'সামাজিক স্থিতিটাই',\n",
              "  'বাংলাদেশের পাবনা জেলায়',\n",
              "  'দলে রাখা হয়নি',\n",
              "  'আমার কথা হচ্ছে',\n",
              "  'যুদ্ধের পর',\n",
              "  'ঘোড়ার মাংসকে গরুর মাংস বলে বিক্রি করার অভিযোগ নিয়ে ইউরোপ-জুড়ে তুলকালাম চলছে।',\n",
              "  'হামলার চেষ্টা হয়',\n",
              "  'আমাকে বললেন',\n",
              "  'দুজনই ছিলেন উইকেটশূন্য',\n",
              "  'বৈঠক করেছে',\n",
              "  'কাসেম শিকদারের বাড়ি',\n",
              "  'দৈনিক ফেনী প্রতিদিন',\n",
              "  'যে বেশি আয় করবে',\n",
              "  'ভারতের কেন্দ্রীয়',\n",
              "  'সিনিয়র আইনজীবী অংশ নিয়েছিলেন',\n",
              "  'বাহিনীর প্রধান',\n",
              "  'বুকের কাছে জড়ো করে',\n",
              "  'এসিটিক এসিড',\n",
              "  'দূরে ছিলাম',\n",
              "  'আর বলা যাবে না',\n",
              "  'অপেক্ষাকৃত কম',\n",
              "  'কেউ জানত না',\n",
              "  'চয়ন',\n",
              "  'তখন সেনার মধ্যে',\n",
              "  'আক্ষেপে দেখা যায়',\n",
              "  'মলিন এক শাড়ি',\n",
              "  'শ্রমিকদের আবার',\n",
              "  'বিশ্বের সেরা ধনী ক্লাবের',\n",
              "  'এরা মূলত চীন থেকে',\n",
              "  'প্রসঙ্গটি শত শত বছরের',\n",
              "  'বিকেল অবধি অফিস',\n",
              "  'তাঁকে রিকশায় তুলে',\n",
              "  'পুরুষ রমণী',\n",
              "  'অধিকাংশ নেতা',\n",
              "  'একই ছাঁচে ঢালা',\n",
              "  'অভিযানে সম্মতি',\n",
              "  'এর জন্য কোনো',\n",
              "  'মানুষ মেনে নিল',\n",
              "  'ভিখুর যে দ্রোহ',\n",
              "  'চেংটি, ছোট শোল',\n",
              "  'প্যাডেল করে',\n",
              "  'কার্যভার গ্রহণের তারিখ থেকে',\n",
              "  'রাজস্ব আদায়ের জন্য',\n",
              "  'স্নায়বিক রোগ',\n",
              "  'বর্তমানে খুচরা পর্যায়ে',\n",
              "  'বিজেপি সমর্থিত প্রার্থী',\n",
              "  'তারা পদত্যাগপত্র জমা দিয়েছেন',\n",
              "  'পর্যবেক্ষণ করা হয়েছে',\n",
              "  'এ ব্যাপারে একটি',\n",
              "  'হাসপাতালে তার',\n",
              "  'তিনি ধৈর্য ধরে',\n",
              "  'হাজার হাজার মাইল',\n",
              "  'দাম বাড়ার কারণেই',\n",
              "  'জন আব্রাহাম',\n",
              "  'কামরুল ইসলাম',\n",
              "  'এ কালের',\n",
              "  'এ হলো ভারতীয়',\n",
              "  'গতকালকের দিনটা ছিল',\n",
              "  'প্রথম মুহূর্তের কথা',\n",
              "  'জয়া এ পর্যন্ত',\n",
              "  'যাও পাখি বল তারে',\n",
              "  'দেড় মাস',\n",
              "  'অভিনেত্রী হিসেবে সালমানের বিপরীতে',\n",
              "  'অনবরত পাপ করতে থাকে',\n",
              "  'পশ্চিম পাকিস্তান থেকে',\n",
              "  'রাজনৈতিক, অর্থনৈতিক, বাণিজ্যিক',\n",
              "  'অকল্যান্ড সিটি আর্ট গ্যালারি',\n",
              "  'সেই জন্য আমাদের',\n",
              "  'অভিনব কল্পনাশক্তি প্রয়োগ করে',\n",
              "  'এছাড়াও তিনি জানিয়েছেন',\n",
              "  'ঘটনাস্থলে থাকা পথচারীরা',\n",
              "  'সন্ধান করেছেন',\n",
              "  'এ হত্যাকাণ্ড ঘটেছে',\n",
              "  'ডিসেম্বরের প্রথম বৃহস্পতিবার',\n",
              "  'আদিল ও অধিকারের পরিচালক',\n",
              "  'এটাই সাম্প্রতিক সময়ের',\n",
              "  'এর আগে ইউক্রেইনের ক্রিমিয়া অঞ্চলের',\n",
              "  'অপভ্রংশ শব্দটির',\n",
              "  'পৃথিবীর সর্বপ্রথম নবী',\n",
              "  'জগত এবং জীবনকে',\n",
              "  'বাজার থেইকা কিইনা',\n",
              "  'মোট পাঁচজনকে আসামি করা হয়',\n",
              "  'নেপালের সেবা সংস্থা',\n",
              "  'শুটিং শেষ করেই',\n",
              "  'তবে কলকাতার মধ্যে',\n",
              "  'কিন্তু টেস্ট',\n",
              "  'ময়নামতি'],\n",
              " 'audio': [{'array': array([-0.00259399, -0.00283813, -0.00299072, ...,  0.00222778,\n",
              "           0.0007019 , -0.00039673], dtype=float32),\n",
              "   'path': '/content/drive/MyDrive/Rifat bhai/Training_DATA1/clips/40d9f0a0d4.flac',\n",
              "   'sampling_rate': 16000},\n",
              "  {'array': array([ 1.5869141e-03,  7.0190430e-04,  3.0517578e-05, ...,\n",
              "          -3.0517578e-04,  1.0681152e-03,  1.6174316e-03], dtype=float32),\n",
              "   'path': '/content/drive/MyDrive/Rifat bhai/Training_DATA1/clips/40dab97e48.flac',\n",
              "   'sampling_rate': 16000},\n",
              "  {'array': array([-0.00079346, -0.00195312, -0.00039673, ..., -0.00112915,\n",
              "          -0.00085449, -0.00152588], dtype=float32),\n",
              "   'path': '/content/drive/MyDrive/Rifat bhai/Training_DATA1/clips/40dabfdc0f.flac',\n",
              "   'sampling_rate': 16000}]}"
            ]
          },
          "metadata": {},
          "execution_count": 95
        }
      ]
    },
    {
      "cell_type": "code",
      "source": [
        "import librosa\n",
        "import IPython.display as ipd\n",
        "\n",
        "rand_int = random.randint(0, len(dataset_train)-1)\n",
        "#j='/content/drive/MyDrive/Rifat bhai/Training_DATA1/clips/400003a817.flac'\n",
        "dpath='/content/drive/MyDrive/Rifat bhai/Training_DATA1/clips/'+dataset_train[rand_int][\"path\"]+\".flac\"\n",
        "audio_path = dpath\n",
        "audio_data, sr = librosa.load(audio_path, sr=16000)\n",
        "ipd.Audio(data=audio_data, autoplay=True, rate=sr)\n"
      ],
      "metadata": {
        "colab": {
          "base_uri": "https://localhost:8080/",
          "height": 61
        },
        "id": "Me6-9lkFWb--",
        "outputId": "91e1fa7f-0bc4-4f31-d073-ad58eb3e662d"
      },
      "execution_count": 73,
      "outputs": [
        {
          "output_type": "execute_result",
          "data": {
            "text/plain": [
              "<IPython.lib.display.Audio object>"
            ],
            "text/html": [
              "\n",
              "                <audio  controls=\"controls\" autoplay=\"autoplay\">\n",
              "                    <source src=\"data:audio/wav;base64,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\" type=\"audio/wav\" />\n",
              "                    Your browser does not support the audio element.\n",
              "                </audio>\n",
              "              "
            ]
          },
          "metadata": {},
          "execution_count": 73
        }
      ]
    },
    {
      "cell_type": "code",
      "source": [
        "print(audio_data)"
      ],
      "metadata": {
        "colab": {
          "base_uri": "https://localhost:8080/"
        },
        "id": "aTropTzrllAA",
        "outputId": "a15d6749-9809-474a-9645-9d342a0eaa0c"
      },
      "execution_count": 76,
      "outputs": [
        {
          "output_type": "stream",
          "name": "stdout",
          "text": [
            "[-0.00146484  0.00021362  0.         ...  0.00076294  0.00024414\n",
            " -0.00048828]\n"
          ]
        }
      ]
    },
    {
      "cell_type": "code",
      "source": [
        "print(dataset_train.features)"
      ],
      "metadata": {
        "id": "ocP0YXxGaTga"
      },
      "execution_count": null,
      "outputs": []
    },
    {
      "cell_type": "code",
      "source": [
        "rand_int = random.randint(0, len(dataset_train)-1)\n",
        "\n",
        "print(\"Target text:\", dataset_train[rand_int][\"sentence\"])\n",
        "print(\"Input array shape:\", (dataset_train[rand_int][\"path\"]).shape)\n",
        "print(\"Sampling rate:\", dataset_train[rand_int][\"path\"][\"sampling_rate\"])"
      ],
      "metadata": {
        "id": "Mb7FqOq_Zvlv"
      },
      "execution_count": null,
      "outputs": []
    },
    {
      "cell_type": "markdown",
      "source": [],
      "metadata": {
        "id": "RPA54PFKbDRA"
      }
    },
    {
      "cell_type": "code",
      "source": [
        "def prepare_dataset(batch):\n",
        "    audio = batch[\"audio\"]\n",
        "\n",
        "    # batched output is \"un-batched\"\n",
        "    batch[\"input_values\"] = processor(audio[\"array\"], sampling_rate=audio[\"sampling_rate\"]).input_values[0]\n",
        "    \n",
        "    with processor.as_target_processor():\n",
        "        batch[\"labels\"] = processor(batch[\"sentence\"]).input_ids\n",
        "    return batch"
      ],
      "metadata": {
        "id": "2XXcijkDa73-"
      },
      "execution_count": null,
      "outputs": []
    },
    {
      "cell_type": "code",
      "source": [
        "common_voice_train = common_voice_train.map(prepare_dataset, remove_columns=common_voice_train.column_names, num_proc=4)\n",
        "common_voice_test = common_voice_test.map(prepare_dataset, remove_columns=common_voice_test.column_names, num_proc=4)"
      ],
      "metadata": {
        "id": "JpoNDgm_b8V8"
      },
      "execution_count": null,
      "outputs": []
    },
    {
      "cell_type": "code",
      "source": [
        "# from transformers import Wav2Vec2Processor\n",
        "\n",
        "# processor = Wav2Vec2Processor(feature_extractor=feature_extractor, tokenizer=tokenizer)"
      ],
      "metadata": {
        "id": "dSP5TQx8Q9G2"
      },
      "execution_count": null,
      "outputs": []
    },
    {
      "cell_type": "markdown",
      "source": [
        "#Training set up"
      ],
      "metadata": {
        "id": "6Eyo6lSxbW-p"
      }
    },
    {
      "cell_type": "code",
      "source": [
        "import torch\n",
        "\n",
        "from dataclasses import dataclass, field\n",
        "from typing import Any, Dict, List, Optional, Union\n",
        "\n",
        "@dataclass\n",
        "class DataCollatorCTCWithPadding:\n",
        "    \"\"\"\n",
        "    Data collator that will dynamically pad the inputs received.\n",
        "    Args:\n",
        "        processor (:class:`~transformers.Wav2Vec2Processor`)\n",
        "            The processor used for proccessing the data.\n",
        "        padding (:obj:`bool`, :obj:`str` or :class:`~transformers.tokenization_utils_base.PaddingStrategy`, `optional`, defaults to :obj:`True`):\n",
        "            Select a strategy to pad the returned sequences (according to the model's padding side and padding index)\n",
        "            among:\n",
        "            * :obj:`True` or :obj:`'longest'`: Pad to the longest sequence in the batch (or no padding if only a single\n",
        "              sequence if provided).\n",
        "            * :obj:`'max_length'`: Pad to a maximum length specified with the argument :obj:`max_length` or to the\n",
        "              maximum acceptable input length for the model if that argument is not provided.\n",
        "            * :obj:`False` or :obj:`'do_not_pad'` (default): No padding (i.e., can output a batch with sequences of\n",
        "              different lengths).\n",
        "        max_length (:obj:`int`, `optional`):\n",
        "            Maximum length of the ``input_values`` of the returned list and optionally padding length (see above).\n",
        "        max_length_labels (:obj:`int`, `optional`):\n",
        "            Maximum length of the ``labels`` returned list and optionally padding length (see above).\n",
        "        pad_to_multiple_of (:obj:`int`, `optional`):\n",
        "            If set will pad the sequence to a multiple of the provided value.\n",
        "            This is especially useful to enable the use of Tensor Cores on NVIDIA hardware with compute capability >=\n",
        "            7.5 (Volta).\n",
        "    \"\"\"\n",
        "\n",
        "    processor: Wav2Vec2Processor\n",
        "    padding: Union[bool, str] = True\n",
        "    max_length: Optional[int] = None\n",
        "    max_length_labels: Optional[int] = None\n",
        "    pad_to_multiple_of: Optional[int] = None\n",
        "    pad_to_multiple_of_labels: Optional[int] = None\n",
        "\n",
        "    def __call__(self, features: List[Dict[str, Union[List[int], torch.Tensor]]]) -> Dict[str, torch.Tensor]:\n",
        "        # split inputs and labels since they have to be of different lenghts and need\n",
        "        # different padding methods\n",
        "        input_features = [{\"input_values\": feature[\"input_values\"]} for feature in features]\n",
        "        label_features = [{\"input_ids\": feature[\"labels\"]} for feature in features]\n",
        "\n",
        "        batch = self.processor.pad(\n",
        "            input_features,\n",
        "            padding=self.padding,\n",
        "            max_length=self.max_length,\n",
        "            pad_to_multiple_of=self.pad_to_multiple_of,\n",
        "            return_tensors=\"pt\",\n",
        "        )\n",
        "        with self.processor.as_target_processor():\n",
        "            labels_batch = self.processor.pad(\n",
        "                label_features,\n",
        "                padding=self.padding,\n",
        "                max_length=self.max_length_labels,\n",
        "                pad_to_multiple_of=self.pad_to_multiple_of_labels,\n",
        "                return_tensors=\"pt\",\n",
        "            )\n",
        "\n",
        "        # replace padding with -100 to ignore loss correctly\n",
        "        labels = labels_batch[\"input_ids\"].masked_fill(labels_batch.attention_mask.ne(1), -100)\n",
        "\n",
        "        batch[\"labels\"] = labels\n",
        "\n",
        "        return batch"
      ],
      "metadata": {
        "id": "DJ7PK0E4bWmF"
      },
      "execution_count": 47,
      "outputs": []
    },
    {
      "cell_type": "code",
      "source": [
        "data_collator = DataCollatorCTCWithPadding(processor=processor, padding=True)"
      ],
      "metadata": {
        "id": "jDypiKAPbb31"
      },
      "execution_count": 48,
      "outputs": []
    },
    {
      "cell_type": "code",
      "source": [
        "from datasets import load_metric\n",
        "!pip install jiwer\n",
        "\n",
        "wer_metric = load_metric(\"wer\")"
      ],
      "metadata": {
        "colab": {
          "base_uri": "https://localhost:8080/"
        },
        "id": "lJHPSR0ubemJ",
        "outputId": "18d2da88-8e4e-4442-a0d8-59ac6c060452"
      },
      "execution_count": 52,
      "outputs": [
        {
          "output_type": "stream",
          "name": "stdout",
          "text": [
            "Looking in indexes: https://pypi.org/simple, https://us-python.pkg.dev/colab-wheels/public/simple/\n",
            "Collecting jiwer\n",
            "  Downloading jiwer-3.0.1-py3-none-any.whl (21 kB)\n",
            "Requirement already satisfied: click<9.0.0,>=8.1.3 in /usr/local/lib/python3.10/dist-packages (from jiwer) (8.1.3)\n",
            "Collecting rapidfuzz==2.13.7 (from jiwer)\n",
            "  Downloading rapidfuzz-2.13.7-cp310-cp310-manylinux_2_17_x86_64.manylinux2014_x86_64.whl (2.2 MB)\n",
            "\u001b[2K     \u001b[90m━━━━━━━━━━━━━━━━━━━━━━━━━━━━━━━━━━━━━━━━\u001b[0m \u001b[32m2.2/2.2 MB\u001b[0m \u001b[31m24.0 MB/s\u001b[0m eta \u001b[36m0:00:00\u001b[0m\n",
            "\u001b[?25hInstalling collected packages: rapidfuzz, jiwer\n",
            "Successfully installed jiwer-3.0.1 rapidfuzz-2.13.7\n"
          ]
        }
      ]
    },
    {
      "cell_type": "code",
      "source": [
        "def compute_metrics(pred):\n",
        "    pred_logits = pred.predictions\n",
        "    pred_ids = np.argmax(pred_logits, axis=-1)\n",
        "\n",
        "    pred.label_ids[pred.label_ids == -100] = processor.tokenizer.pad_token_id\n",
        "\n",
        "    pred_str = processor.batch_decode(pred_ids)\n",
        "    # we do not want to group tokens when computing the metrics\n",
        "    label_str = processor.batch_decode(pred.label_ids, group_tokens=False)\n",
        "\n",
        "    wer = wer_metric.compute(predictions=pred_str, references=label_str)\n",
        "\n",
        "    return {\"wer\": wer}"
      ],
      "metadata": {
        "id": "8jw3qPmQbgSh"
      },
      "execution_count": 53,
      "outputs": []
    },
    {
      "cell_type": "code",
      "source": [
        "from transformers import Wav2Vec2ForCTC\n",
        "\n",
        "model = Wav2Vec2ForCTC.from_pretrained(\n",
        "    \"facebook/wav2vec2-large-xlsr-53\", \n",
        "    attention_dropout=0.1,\n",
        "    hidden_dropout=0.1,\n",
        "    feat_proj_dropout=0.0,\n",
        "    mask_time_prob=0.05,\n",
        "    layerdrop=0.1,\n",
        "    ctc_loss_reduction=\"mean\", \n",
        "    pad_token_id=processor.tokenizer.pad_token_id,\n",
        "    vocab_size=len(processor.tokenizer)\n",
        ")"
      ],
      "metadata": {
        "colab": {
          "base_uri": "https://localhost:8080/",
          "height": 156,
          "referenced_widgets": [
            "f8d466d0167045649c9837148be57920",
            "b948848dd91a4046aca0c5ff9a8656bb",
            "fa936c469ede46c0ab06e5526dfb3330",
            "4b9b2cef7b414f6ab68a47600b0e680b",
            "f141fb9c12134f93b21d0f8979062a07",
            "658e073d8312492f8701bcf6c41614c5",
            "e6e87d2379d3415aaf3715c762ce3de7",
            "9bb1280a3b644a9288f28eec53a137f4",
            "8ea498d255684f82ad1c2a8835147a51",
            "c318f95abaf943249de7ee00fce199c9",
            "37c5a8edc9a540cd80303ed64a6bd333"
          ]
        },
        "id": "utL-7A6Obifd",
        "outputId": "823a550c-9ed8-44fa-c8bc-929103db4a9d"
      },
      "execution_count": 55,
      "outputs": [
        {
          "output_type": "display_data",
          "data": {
            "text/plain": [
              "Downloading pytorch_model.bin:   0%|          | 0.00/1.27G [00:00<?, ?B/s]"
            ],
            "application/vnd.jupyter.widget-view+json": {
              "version_major": 2,
              "version_minor": 0,
              "model_id": "f8d466d0167045649c9837148be57920"
            }
          },
          "metadata": {}
        },
        {
          "output_type": "stream",
          "name": "stderr",
          "text": [
            "Some weights of the model checkpoint at facebook/wav2vec2-large-xlsr-53 were not used when initializing Wav2Vec2ForCTC: ['project_hid.weight', 'quantizer.weight_proj.weight', 'project_q.bias', 'quantizer.weight_proj.bias', 'project_q.weight', 'project_hid.bias', 'quantizer.codevectors']\n",
            "- This IS expected if you are initializing Wav2Vec2ForCTC from the checkpoint of a model trained on another task or with another architecture (e.g. initializing a BertForSequenceClassification model from a BertForPreTraining model).\n",
            "- This IS NOT expected if you are initializing Wav2Vec2ForCTC from the checkpoint of a model that you expect to be exactly identical (initializing a BertForSequenceClassification model from a BertForSequenceClassification model).\n",
            "Some weights of Wav2Vec2ForCTC were not initialized from the model checkpoint at facebook/wav2vec2-large-xlsr-53 and are newly initialized: ['lm_head.weight', 'lm_head.bias']\n",
            "You should probably TRAIN this model on a down-stream task to be able to use it for predictions and inference.\n"
          ]
        }
      ]
    },
    {
      "cell_type": "code",
      "source": [
        "model.freeze_feature_extractor()"
      ],
      "metadata": {
        "colab": {
          "base_uri": "https://localhost:8080/"
        },
        "id": "abHIRf3MblQF",
        "outputId": "91f1d7d2-7f9a-4014-d5a9-9741d3a5531a"
      },
      "execution_count": 56,
      "outputs": [
        {
          "output_type": "stream",
          "name": "stderr",
          "text": [
            "/usr/local/lib/python3.10/dist-packages/transformers/models/wav2vec2/modeling_wav2vec2.py:1643: FutureWarning: The method `freeze_feature_extractor` is deprecated and will be removed in Transformers v5.Please use the equivalent `freeze_feature_encoder` method instead.\n",
            "  warnings.warn(\n"
          ]
        }
      ]
    },
    {
      "cell_type": "code",
      "source": [
        "model.gradient_checkpointing_enable()"
      ],
      "metadata": {
        "id": "gufg80ekbnQI"
      },
      "execution_count": 57,
      "outputs": []
    },
    {
      "cell_type": "code",
      "source": [
        "from transformers import TrainingArguments\n",
        "\n",
        "training_args = TrainingArguments(\n",
        "  # output_dir=\"/content/gdrive/MyDrive/wav2vec2-large-xlsr-turkish-demo\",\n",
        "  output_dir=\"/content/drive/MyDrive/Rifat bhai/output\",\n",
        "  group_by_length=True,\n",
        "  per_device_train_batch_size=16,\n",
        "  gradient_accumulation_steps=2,\n",
        "  evaluation_strategy=\"steps\",\n",
        "  num_train_epochs=30,\n",
        "  fp16=False,\n",
        "  save_steps=100,\n",
        "  eval_steps=100,\n",
        "  logging_steps=10,\n",
        "  learning_rate=3e-4,\n",
        "  warmup_steps=500,\n",
        "  save_total_limit=2,\n",
        ")"
      ],
      "metadata": {
        "id": "xyElCfzUbotx"
      },
      "execution_count": 62,
      "outputs": []
    },
    {
      "cell_type": "code",
      "source": [
        "from transformers import Trainer\n",
        "\n",
        "trainer = Trainer(\n",
        "    model=model,\n",
        "    data_collator=data_collator,\n",
        "    args=training_args,\n",
        "    compute_metrics=compute_metrics,\n",
        "    train_dataset=dataset_train,\n",
        "    eval_dataset=dataset_test,\n",
        "    tokenizer=processor.feature_extractor,\n",
        ")"
      ],
      "metadata": {
        "id": "a2mn_9FQbuVe"
      },
      "execution_count": 63,
      "outputs": []
    },
    {
      "cell_type": "code",
      "source": [
        "def encode_batch(batch):\n",
        "    # encode each sentence in the batch\n",
        "    encoded = tokenizer(batch, padding=True, truncation=True, return_tensors=\"pt\")\n",
        "    return {\"input_values\": encoded[\"input_ids\"]}\n",
        "\n",
        "dataset_train = dataset_train.map(encode_batch, batched=True)\n",
        "dataset_test = dataset_test.map(encode_batch, batched=True)\n"
      ],
      "metadata": {
        "id": "ZsMnRfkmeVK-"
      },
      "execution_count": null,
      "outputs": []
    },
    {
      "cell_type": "code",
      "source": [
        "function ConnectButton(){\n",
        "    console.log(\"Connect pushed\"); \n",
        "    document.querySelector(\"#top-toolbar > colab-connect-button\").shadowRoot.querySelector(\"#connect\").click() \n",
        "}\n",
        "setInterval(ConnectButton,60000);\n",
        "\n"
      ],
      "metadata": {
        "id": "qCz75Ml7bwWt"
      },
      "execution_count": null,
      "outputs": []
    },
    {
      "cell_type": "code",
      "source": [
        "trainer.train()"
      ],
      "metadata": {
        "id": "25F9TPI8bzIh"
      },
      "execution_count": null,
      "outputs": []
    }
  ]
}